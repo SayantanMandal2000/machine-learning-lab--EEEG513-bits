{
  "nbformat": 4,
  "nbformat_minor": 0,
  "metadata": {
    "colab": {
      "provenance": []
    },
    "kernelspec": {
      "name": "python3",
      "display_name": "Python 3"
    },
    "language_info": {
      "name": "python"
    }
  },
  "cells": [
    {
      "cell_type": "markdown",
      "source": [
        " Import the wine dataset from Scikit-learn library using the “import sklearn”. Note: The wine data is already included in the Scikit-learn library, and there is no need to separately upload any files to Google Drive. Use the “load” command to load the wine data\n"
      ],
      "metadata": {
        "id": "2-rBrPydzcs4"
      }
    },
    {
      "cell_type": "code",
      "execution_count": null,
      "metadata": {
        "id": "laJSSz6McikO"
      },
      "outputs": [],
      "source": [
        "import sklearn"
      ]
    },
    {
      "cell_type": "code",
      "source": [
        "import pandas as pd\n",
        "from sklearn.datasets import load_wine\n",
        "\n",
        "wine = load_wine()\n"
      ],
      "metadata": {
        "id": "jghnMvkrctWX"
      },
      "execution_count": null,
      "outputs": []
    },
    {
      "cell_type": "markdown",
      "source": [
        "Convert the wine dataset into a pandas dataframe.\n"
      ],
      "metadata": {
        "id": "xqsvU8rUzsA_"
      }
    },
    {
      "cell_type": "code",
      "source": [
        "wine_df = pd.DataFrame(data=wine.data, columns=wine.feature_names)"
      ],
      "metadata": {
        "id": "gCr7AWxNdQNG"
      },
      "execution_count": null,
      "outputs": []
    },
    {
      "cell_type": "markdown",
      "source": [
        "Print the shape/dimension of the dataframe and print the feature/predictor variables present in the wine dataset.\n"
      ],
      "metadata": {
        "id": "955QL9bZzvKx"
      }
    },
    {
      "cell_type": "code",
      "source": [
        "print(\"Shape of the DataFrame:\", wine_df.shape)\n",
        "print(\"\\nFeature names:\", wine_df.columns.tolist())"
      ],
      "metadata": {
        "colab": {
          "base_uri": "https://localhost:8080/"
        },
        "id": "QZNNvWJ4dXx2",
        "outputId": "f09a9414-2697-452f-de65-1a4ef8062bc0"
      },
      "execution_count": null,
      "outputs": [
        {
          "output_type": "stream",
          "name": "stdout",
          "text": [
            "Shape of the DataFrame: (178, 13)\n",
            "\n",
            "Feature names: ['alcohol', 'malic_acid', 'ash', 'alcalinity_of_ash', 'magnesium', 'total_phenols', 'flavanoids', 'nonflavanoid_phenols', 'proanthocyanins', 'color_intensity', 'hue', 'od280/od315_of_diluted_wines', 'proline']\n"
          ]
        }
      ]
    },
    {
      "cell_type": "markdown",
      "source": [
        "Identify how many target/response variables are present in the wine dataset and print them.\n"
      ],
      "metadata": {
        "id": "iQ89bAZkzyVu"
      }
    },
    {
      "cell_type": "code",
      "source": [
        "print(\"\\nTarget names:\", wine.target_names)\n",
        "print(\"Number of target variables:\", len(wine.target_names))"
      ],
      "metadata": {
        "colab": {
          "base_uri": "https://localhost:8080/"
        },
        "id": "pkbL-rFAdbZX",
        "outputId": "1d995ea6-9291-4e22-faf7-59a5e929da57"
      },
      "execution_count": null,
      "outputs": [
        {
          "output_type": "stream",
          "name": "stdout",
          "text": [
            "\n",
            "Target names: ['class_0' 'class_1' 'class_2']\n",
            "Number of target variables: 3\n"
          ]
        }
      ]
    },
    {
      "cell_type": "markdown",
      "source": [
        "From the Scikit learn library import module “train_test_split”. Save the features/predictors of the wine data into a variable X and then target/response labels to a variable y.\n"
      ],
      "metadata": {
        "id": "DxaV5M11z408"
      }
    },
    {
      "cell_type": "code",
      "source": [
        "from sklearn.model_selection import train_test_split\n",
        "\n",
        "X = wine_df\n",
        "y = wine.target\n",
        "\n",
        "# Split into training and testing sets\n",
        "X_train, X_test, y_train, y_test = train_test_split(X, y, test_size=0.3, random_state=42)\n",
        "\n",
        "# Print shapes to verify\n",
        "print(\"X_train shape:\", X_train.shape)\n",
        "print(\"X_test shape :\", X_test.shape)\n",
        "print(\"y_train shape:\", y_train.shape)\n",
        "print(\"y_test shape :\", y_test.shape)"
      ],
      "metadata": {
        "colab": {
          "base_uri": "https://localhost:8080/"
        },
        "id": "-UdEoypqdf0P",
        "outputId": "e99050ab-c50e-4337-ecb0-361f8233f320"
      },
      "execution_count": null,
      "outputs": [
        {
          "output_type": "stream",
          "name": "stdout",
          "text": [
            "X_train shape: (124, 13)\n",
            "X_test shape : (54, 13)\n",
            "y_train shape: (124,)\n",
            "y_test shape : (54,)\n"
          ]
        }
      ]
    },
    {
      "cell_type": "markdown",
      "source": [
        "Given the data below, perform the following\n",
        "\n",
        "![Screenshot 2025-09-06 214813.png](data:image/png;base64,iVBORw0KGgoAAAANSUhEUgAAAbcAAAEJCAYAAAAXV2nuAAAAAXNSR0IArs4c6QAAAARnQU1BAACxjwv8YQUAAAAJcEhZcwAAFiUAABYlAUlSJPAAABkjSURBVHhe7d17cFT13cfxz8nFGqUQBjRSYABFCaFTAUmwDBquKSqXJuKlYkugApGgRERSMuWiiBhkQIwWlEsbhopknIgEIRasQsJVLpYOWCtVVhApGIYNCUE3yXn+eCSP+wM7j3Vz2d95v2b2D37f3znDwHzns9/dc/Y4ruu6AgDAIhHmAgAA4Y5wAwBYh3ADAFiHcAMAWIdwAwBYh3ADAFiHcAMAWIdwAwBYh3ADAFiHcAMAWIdwAwBYh3ADAFiHcAMAWIdwAwBYh3ADAFiHcAMAWIdwAwBYh3ADAFiHcAMAWMdxXdc1F38ox3HMJQAA/l9CEUtMbgAA69Tr5FYPpwbCHv0BXF4oe4PJDQBgHcINAGAdwg0AYB3CDQBgHcINAGAdwg0AYB3CDQBgHcINAGAdwg0AYB3CDQBgHcINAGAdwg0AYB3CDQBgnSYTbqNHj5bjOJe8ioqKVFFRoX79+l2yDnhBUVHRJX3hOI5yc3OD9pk9RI/A09x6IMn9vqeura11Dxw44F5//fV1x69du7au7vP53J/85Cdur1693H/+859BxwLh5Pv2R3V1tbtx40Y3NjbWleTGxsa6Bw4cMLe5tbW17rRp09zY2Fi3uLjYra2tNbcATdr37Y3/pMlMbo7jqHv37lqzZo1iY2MlSVu2bFEgEJAk7dy5Uy1bttTrr7+uG2+80TgasFdkZKTuuOMOzZs3T5IUERGhH/3oR+Y2SVJlZaVGjRqllJQUOd88GwvwoiYTbhclJSUpLy9PkrRs2TKtXbtWe/bs0YwZM7Ry5Up16NDBPATwhHvuuUeJiYk6c+aM1q5da5Z19OhRvfPOOxo1ahTBBs9rcuEmSffdd5/GjRsnSRo7dqyGDh2qefPmKSkpydwqSXrvvffUsmVL7dy50ywB1mjVqpUeffRRSdLy5cv16aefBtXfeustdejQQd27d69bu3DhglJTU/WrX/1K1dXVQfsBmzXJcIuOjtbMmTMVHx+vQCCg3r17a+jQoeY2wHNSUlLUrVs3ff7558rPz69b9/v9evXVV5Wenq6YmJigYwAvctz//RIvpC5+JPJDT71s2TKNHz9ekrRkyRJlZGSYW4Cw80P7Y+nSpXr44YfVtm1blZSUqFOnTiouLlZmZqa2bNmiTp06mYcAYeGH9sa3NcnJTZL27Nmj/Pz8uo8np0+frj179pjbAM9JTU1VfHx83fRWXV2t/Px83XHHHerYsaO5HfCkJhluPp9P48aN02OPPabnnntOAwcO1NmzZzV16lT5/f6gvZWVlVqxYoXi4+O1b9++oBpgo7i4OGVmZkrffPe2ceNG7dix45ILSVzX1eHDh5WWlqaxY8d+6wyA/ZpcuAUCAc2bN0+jRo1SWlqaWrRoocWLF6t169YqKSnRrFmzgkbWZcuWacKECTp27FjQeQCb3XPPPXXT25gxY9S1a9egC0kk6eTJk7r//vv1xhtvqKamJqgG2K5JhZvrulq0aJECgYAee+yxuneh3bp106JFiyRJeXl5KiwsrDsmKytLBQUFdX8GvCAuLk7p6emSpDNnzlz2QpI2bdpo+/bt6tu3b9A64AVNJtwCgYByc3OVnZ2tTp06KSIi+K92yy236JprrlFtba0eeughbdq0qe7daHR0dNBewAseeOABde7cWfHx8erfv79Zlr75gj4yMtJcBqzXZMJt4cKFmj59uiRpxowZWrBgQV2tqKhICQkJOn36tCTp7NmzuvPOO/keAZ7Wpk0b3XzzzbrvvvsUFxdnlgFPazLhlp2dLdd1617Z2dl1tWHDhgXVLr4u3udTVlamr7/+WuXl5d86I2C3Y8eO6V//+pdGjhxplup89dVXKi8vV3l5ed1P2QFe0GTC7b+Vm5urMWPGqLq6WgMGDOCX0OEZb731luLj4xUfH2+WJElffPGFevbsqQMHDmjdunUaPHiwKioqzG2AlZr0TdyAjULRH2VlZRoxYoR+//vfa8iQIWYZCEuh6I2Lwn5yA7zg4MGD+uUvf6ns7Gzt27dPU6ZM0dVXX82VkMB3YHIDGth/0x+jR4/WqlWr6v58/fXXq7i4mMc/wSr/TW98FyY3IAxkZWWpS5cuio2N1ejRo1VSUkKwAf8BkxvQwOgP4PJC2RtMbgAA6xBuAADrEG4AAOsQbgAA6xBuAADrEG4AAOsQbgAA6xBuAADr1OtN3AAAfF+hiCUmNwCAdep1cquHUwNhj/4ALi+UvcHkBgCwDuEGALAO4QYAsA7hBgCwDuEGALAO4QYAsA7hBgCwDuEGALAO4QYAsA7hBgCwDuEGALAO4Wa5yspKLV68WPHx8dq3b59ZBjynvLxc2dnZiouLk+M4ioyMVN++fbVt27aQ/KYhmgbCzVLl5eV6+umndc011ygrK0vHjh0ztwCe4/P51KdPH82fP1+nTp2SJNXW1mr79u1KTk7Wk08+qUAgYB6GMES4Wai6ulq7d+/Wr3/9a2VnZ5tlwJMCgYCeeOIJXXXVVdq+fbuqq6v19ddfq7i4WO3bt5ckPfXUUyosLDQPRRgi3CwUFRWlwYMHq0OHDho4cKCioqLMLYDnHDx4UDU1Ndq8ebP69OmjyMhIRUdH6xe/+IWKiorUunVrua6rJUuWqKKiwjwcYYZws1xMTIyuuOIKcxnwnA8//FBTp05VixYtzJJuvvlmjR8/XpL06aef6ty5c+YWhBnCDYAnPPjgg/r5z39uLte59dZbzSWEMcINAL6lU6dO+vGPf2wuI8wQbgAg6fDhw5KkkSNHqlmzZmYZYYZwA+B5VVVVevfdd9W5c2eNGDHCLCMMEW4APG/v3r3atm2bHn/88brbAhDeCDcAnlZRUaE5c+Zo6NCh+u1vf2uWEaYINwCe5bqu/vCHP+jYsWN67rnnFB0dbW5BmCLcAHhWaWmp8vPztWbNGnXo0MEsI4wRbgA8ae/evZowYYL++Mc/qnv37mYZYY5wA+A5Pp9PmZmZeu6555SUlGSWYQHCDYCn+Hw+jRw5UtOmTdNdd91lluW6rl555RV9/vnnZglhhHAD4BkXg23q1KlKS0szy/L7/Xr22We1Y8cOxcXFmWWEEcLNYhcuXNCGDRt0/vx5VVVV6f333+dZVfCsI0eOaPDgwdq7d6/uv/9+RUREyHGcoFdsbKxycnI0ZMgQnqYR5hy3Hh496ziO9M14j8aRm5ur3/3ud+ayJGn9+vUaNmyYuYwGQn80vLKyMg0YMEAHDx40S5do27atSkpK1KlTJ7OEehbK3iDcgAZGfwCXF8re4GNJAIB1CDcAgHUINwCAdQg3AIB1CDcAgHUINwCAdQg3AIB1CDcAgHXq9SZuAAC+r1DEEpMbAMA69Tq51cOpgbBHfwCXF8reYHIDAFiHcAMAWIdwAwBYh3ADAFiHcAMAWIdwAwBYh3CzkOu62rZtm/r27avIyEg5jqO4uDhlZ2ervLzc3A54ns/n00033aR+/fqpoqLCLCMMEW6WcV1XCxcuVHJysrZv367a2lpJ0qlTpzR//nz16NFDH374oXkY4FmBQEBz587Vxx9/bJYQxgg3y5SWlurZZ5/Vk08+qS+//FKu6+rkyZN6+OGHJUmffPKJJkyYIL/fbx4KeNLatWu1bNkycxlhjnCziOu6+vOf/6ylS5dq5syZatWqlSQpLi5OeXl5mjRpkiSppKREW7duNY4GvOfQoUN65plnlJ2dbZYQ5gg3i5SVlalNmzYaMWKEWVJkZKQee+wxXXfddZLER5PwPL/fr6ysLKWnp6tPnz5mGWGOcLNI69atNWvWLEVFRZklSdK1116rLl26mMuA57iuq5dffllXXXWVHnnkEZ5kYiHCzaO6du1qLgGesWfPHhUUFGjx4sWKiYkxy7AA4eYhfr9fR48eVXx8vHr37m2WAU84deqUJk2apOnTp6tjx45mGZYg3Dzk73//uz777DOlp6crLi7OLAPWq66u1qxZs9SrV6/LfjcNexBuHhEIBLRy5UolJCRozJgxZhnwhDfffFOHDh3S008//Z3fTcMOhJtHbNq0SZs3b9aSJUt07bXXmmXAej6fT4sWLdKCBQvqbpOBvQg3D/D5fMrOztb06dPVt29fswxYLxAIaNq0aRo+fLgSExPNMizkuKF4nrchlI8Kxw8TCAT04IMPqn379po3b56io6PNLWhg9EfD27dvn26//XadP3/eLH2n9evXa9iwYeYy6lEoe4PJzWKBQECPPvqoWrZsSbAB8BTCzVKu62rRokUqKytTbm4uwQZPu+WWW1RZWSnXdS/7Wr9+vSQpOTlZ586dk+u6TG1hjnCz0MUnA7zzzjtatmyZWrRoYW7RkSNHtGrVKnMZAKxAuFnmYrC9/fbbWrNmzSXBVlNTow8++EBjxozRjTfeGFQDAFsQbhapqanRs88+q6lTp2rz5s1q1aqVHMcJekVFRalHjx4KBAJKSEgwTwEAViDcLPKnP/1JOTk55vJlDRky5JKpDgBswa0AQAOjP4DLC2VvMLkBAKxDuAEArEO4AQCsQ7gBAKxTrxeUAADwfYUilpjcAADWqdfJrR5ODYQ9+gO4vFD2BpMbAMA6hBsAwDqEGwDAOoQbAMA6hBsAwDqEGwDAOoQbAMA6hJulDh8+rLvuukuRkZFyHEdt27ZVXl6eqqqqzK2AJ61evfqSh/k6jqOIiAgVFxeb2xFmCDcLFRYWqnv37tq5c6fatGmjiIgInThxQo8++qgmT56sQCBgHgJ4it/v14svvmguS5JSUlKUnJxsLiPM8Aslljly5IjS09O1YMEC9e7dW47jqLy8XA8//LBeffVVOY6jjRs3asiQIeahaCD0R+N77bXXtHDhQk2ZMkVRUVFBtW7duqlr165Ba2gYoewNws0yzzzzjAYNGqSkpKSg9X//+9/q16+f/vGPfygnJ0dz584NqqPh0B+Nq6KiQmlpacrIyFBaWppZRiMKZW/wsaRlcnJyLgk2Sbr22mvVs2dPSdLVV19tlgHPKC0t1YULFzRw4ECzBIsQbh5RU1Ojr776SldccYX69+9vlgFPqKqq0vPPP6+SkhIlJCQoIyNDhw8fDsmkgKaFcPOIo0ePaseOHRo7dqwSExPNMuAJW7du1V/+8hdJ0okTJ/Tyyy+rW7duuvvuu3X8+HFzO8IY37l5gN/v10MPPSRJWr58uVq0aGFuQQOiPxrP/v37tWvXLu3evVtbt26Vz+erq7Vu3VqbNm1Sr169go5BwwllbzC5WezChQsqLCzULbfcotdff10xMTE6d+6cuQ3wjJ49e2rixInKz8/X0aNH9cknnyg1NVWS9OWXX+qBBx4ICjyELyY3S33xxRe69dZb9dlnnwWt8+608dEfTYvrunrppZc0efJk1dbWKjMzU3l5eXX/T2g4oewNJjdLtWnTRj6fT+fOndO6devUvXt36Zt3p+np6Tp16pR5COBJjuMoMzNTOTk5kqQNGzboxIkT5jaEGcLNcs2aNdOIESO0Z88ejRs3TpJ06NAh7dq1y9wKeJbjOBo/frw6d+6s06dP6+TJk+YWhBnCzSOio6M1Z84cxcfHS5I+/PBDcwvgae3atbvsPaIIT4Sbh8TFxWnw4MHSN2EH4P84jqOoqCi1bNlScXFxZhlhhnDzmLZt28pxHP3sZz8zS4CnVVdXq7KyUrfddpuuu+46s4wwQ7h5SHV1tT744AMlJSVxIzdg+Oijj3Tw4EFNnTr1kh9TRvgh3Cziuq7+9re/qaioSOXl5WZZb775pt577z298MIL3MgNzzl+/LgGDx6sjIwMnTlzJqh28uRJTZo0SRMmTKj7DVaEN+5zs8i3722LiYnRtGnTNGrUKOmbBzOuWrVKK1as0IABA8xD0YDoj8axZcsWpaSkyHVdNW/eXBkZGUpMTFRpaanWrVun3Nxc3Xvvvdzf1ohC2RuEm0Vc11VBQYGmTJlSd59OdHS0EhISlJWVpXvuuYcnAjQB9EfjqKmp0cqVKzV79uy6/rjhhhs0fvx4ZWRkqHnz5uYhaGCh7A3CDWhg9AdweaHsDb5zAwBYh3ADAFiHcAMAWIdwAwBYh3ADAFinXq+WBADg+wpFLDG5AQCsU6+TWz2cGgh79AdweaHsDSY3AIB1CDcAgHUINwCAdQg3AIB1CDcAgHUINwCAdQg3AIB1CDcAgHUINwCAdQg3AIB1CDcAgHUIN49wXVfz58+X4zgqKioyy4Cn+Xw+3XTTTerXr58qKirMMsIQ4eYR77//vubNm2cuA54XCAQ0d+5cffzxx2YJYYxw84CysjJNmjRJZ8+eNUuA561du1bLli0zlxHmCDfLua6rOXPmqFOnTurdu7dZBjzt0KFDeuaZZ5SdnW2WEOYIN8sVFhbq3Xff1YwZM3TllVeaZcCz/H6/srKylJ6erj59+phlhDnCzWI+n09PPfWUFixYoI4dO5plwLNc19XLL7+sq666So888kjdQzJhD8LNUoFAQLNnz9b999+vQYMGmWXA0/bs2aOCggItXrxYMTExZhkWINwstWLFCh0/flwTJ07kXSnwLadOndKkSZM0ffp0PtGwGOFmoQMHDmjhwoWaP3++WrRoYZYBz6qurtasWbPUq1cvjRgxwizDIoSbZfx+v6ZNm6aZM2eqR48eZhnwtDfffFOHDh3S008/raioKLMMixBuFrn4JfkNN9yg++67zywDnubz+bRo0SItWLBArVq1MsuwDOFmkdLSUhUUFGj69OmKjo42y4BnBQIBTZs2TcOHD1diYqJZhoUc13Vdc/GHungBQz2cGv/B6NGjtWrVKnP5OyUnJ2vDhg1q1qyZWUI9oj8a3r59+3T77bfr/PnzZuk7rV+/XsOGDTOXUY9C2RtMbgAA6zC5eURFRYWGDh2qrVu38o60kdEfTU9RUZGGDx/OpxmNLJS9weQGALAO4QYAsA7hBgCwDuEGALAOF5QADYz+AC4vlL3B5AYAsA7hBgCwDuEGALAO4QYAsA7hBgCwDuEGALAO4QYAsA7hBgCwTr3exA0AwPcVilhicgMAWKdeJ7d6ODUQ9ugP4PJC2RtMbgAA6xBuAADrEG4AAOsQbgAA6xBuAADrEG4AAOsQbgAA6xBuFisrK1NSUpIcx7nkNWTIEFVVVZmHAJ6xevXqS/rCcRxFRESouLjY3I4wQ7hZbPPmzXr//ffNZTmOo6ysLMXExJglwBP8fr9efPFFc1mSlJKSouTkZHMZYYZfKLGU3+/XsGHDNGjQICUkJATVrr76avXr149wayT0R+N77bXXtHDhQk2ZMkVRUVFBtW7duqlr165Ba2gYoewNws1ShYWFWrp0qQoLC9WsWTOzjEZEfzSuiooKpaWlKSMjQ2lpaWYZjSiUvcHHkhaqqqrS8uXLNXbsWIINMJSWlurChQsaOHCgWYJFCDcLbd26VcXFxfrNb36jW2+9VatXr1ZlZaW5DfCcqqoqPf/88yopKVFCQoIyMjJ0+PDhkEwKaFr4WNIyVVVVSk1N1dtvvx203rx5cy1dulT33nuvIiMjg2poWPRH4ykuLtadd955yb99amqqXnjhBbVr1y5oHQ0rlL1BuFnG7/frr3/9q3bu3Kn9+/dr27ZtCgQCdfWMjAy98MILio6ODjoODYf+aDz79+/Xrl27tHv3bm3dulU+n6+u1rp1a23atEm9evUKOgYNJ5S9QbhZLhAIqKCgQBMnTlR5ebkkKTc3V0888UTd/xMaFv3RdHz66ad6/PHH9cYbb0iSbrzxRm3evFkdOnQwt6IBhLI3CDePOH78uFJTU7V3717FxsaqpKREP/3pT81taAD0R9Piuq5eeuklTZ48WbW1tcrMzFReXh5v/hpBKHuDC0o8ol27dlqzZo3atGmjs2fP6q233jK3AJ7kOI4yMzOVk5MjSdqwYYNOnDhhbkOYIdw8pHPnzpo8ebIk6fDhw2YZ8CzHcTR+/Hh17txZp0+f1smTJ80tCDOEm8cMGDCAXyYBLqNdu3ZKSkoylxGmCDePiYiIkOM46tKli1kCPM1xHEVFRally5aKi4szywgzhJvHVFVV6corr1T//v3NEuBp1dXVqqys1G233abrrrvOLCPMEG4e4rquXn/9daWmpioxMdEsA5720Ucf6eDBg5o6deolP6aM8EO4WcR1XS1ZskS9evXSpk2bgi6ndV1X+fn52r59u2bMmEHzwnOOHz+uwYMHKyMjQ2fOnAmqnTx5UpMmTdKECRPUs2fPoBrCE/e5WeTChQu6++67tXHjRklSv3799OCDD0qSXnnlFbVv314vvvgiH7k0MvqjcWzZskUpKSlyXVfNmzdXRkaGEhMTVVpaqnXr1ik3N1f33nsv97c1olD2BuFmmaNHj2ry5MnasGGDamtr657dNmPGjLqncqNx0R+No6amRitXrtTs2bPr7mO74YYbNH78eGVkZKh58+bmIWhgoewNwg1oYPQHcHmh7A2+cwMAWIdwAwBYh3ADAFiHcAMAWKdeLygBAOD7CkUsMbkBAKxTL5MbAACNickNAGAdwg0AYB3CDQBgHcINAGAdwg0AYB3CDQBgHcINAGAdwg0AYB3CDQBgHcINAGAdwg0AYB3CDQBgnf8BqftPM9klGzAAAAAASUVORK5CYII=)\n",
        "\n",
        "Perform a linear regression analysis to determine the regression coefficients. Calculate the residual standard error (RSE) and R2 statistic.\n",
        "Write a Python code to generate the given data (use NumPy) and import the Scikit learn library to calculate the regression coefficients, residual standard error (RSE), and $R^2$ statistic.\n"
      ],
      "metadata": {
        "id": "J8Rz54jUz8I1"
      }
    },
    {
      "cell_type": "code",
      "source": [
        "import numpy as np\n",
        "from sklearn.linear_model import LinearRegression\n",
        "from sklearn.metrics import mean_squared_error, r2_score\n",
        "\n",
        "x = np.array([1, 2, 3, 4, 5]).reshape(-1,1)\n",
        "y = np.array([2, 4, 5, 4, 5])\n",
        "\n",
        "model = LinearRegression() #Fit the linear regression model\n",
        "model.fit(x, y)\n",
        "\n",
        "b0 = model.intercept_\n",
        "b1 = model.coef_[0]\n",
        "\n",
        "y_pred = model.predict(x) #Predictions\n",
        "\n",
        "SSE = np.sum((y - y_pred)**2)\n",
        "RSE = np.sqrt(SSE / (len(x) - 2))\n",
        "R2 = r2_score(y, y_pred)\n",
        "\n",
        "print(f\"Intercept (b0): {b0:.2f}\")\n",
        "print(f\"Slope (b1): {b1:.2f}\")\n",
        "print(f\"Residual Standard Error (RSE): {RSE:.3f}\")\n",
        "print(f\"R^2 statistic: {R2:.2f}\")"
      ],
      "metadata": {
        "colab": {
          "base_uri": "https://localhost:8080/"
        },
        "id": "b8Q_oWLM4y-4",
        "outputId": "469c1ce4-bd2c-41af-a2e3-32fa1f140528"
      },
      "execution_count": 4,
      "outputs": [
        {
          "output_type": "stream",
          "name": "stdout",
          "text": [
            "Intercept (b0): 2.20\n",
            "Slope (b1): 0.60\n",
            "Residual Standard Error (RSE): 0.894\n",
            "R^2 statistic: 0.60\n"
          ]
        }
      ]
    },
    {
      "cell_type": "markdown",
      "source": [
        "![image.png](data:image/png;base64,iVBORw0KGgoAAAANSUhEUgAAA4MAAADcCAYAAADKp3RFAAAAAXNSR0IArs4c6QAAAARnQU1BAACxjwv8YQUAAAAJcEhZcwAADsMAAA7DAcdvqGQAAEFeSURBVHhe7d15XFTl/gfwz2FLQAMF9wVUzIU0b+FCbim5Iy1qLvem3lwrt9ICl1tZauKSXtHSNLOr5W6KW2lomrnglgtuKIiQoAIBsniZYZ7fH5c5vzlnBhgQYfB83q/XvHTO85wzhznzPOf5nnOe55GEEAJERERERESkKXbqBURERERERPTkYzBIRERERESkQQwGiYiIiIiINIjBIBERERERkQYxGCQiIiIiItIgBoNEREREREQaxGCQiIiIiIhIgxgMEhERERERaRCDQSIiIiIiIg2ShBBCvbAgkiSpFxEREREREZGNsSbM451BIiIiIiKiJ4w1N/JKdGewGKsQEZU51lVERBUb63GiR2NtGeKdQSIiIiIiIg1iMEhERERERKRBDAaJiIiIiIg0iMEgERERERGRBjEYJCIiIiIi0iAGg0RERERERBrEYJCIiIiIiEiDGAwSERERERFpEINBIiIiIiIiDWIwSEREREREpEEMBomIiIiIiDSIwSAREREREZEGMRgspry8PBw4cABt2rTBmTNn1MlWE0LgyJEj6NGjB3744Qe4urpCkqQCX05OTmjdujUWLVqElJQU9ebKzPDhw832bdeuXepsNu9Rj2NCQgJGjx4NJycn+fgEBgbi2LFjuHfvHiZPnozMzEz1alYJDQ1VfL+urq4l2seiLFmyBCNHjkRCQoI6iahUZGRkIDg4GFWrVoUkSahatSpCQkKQlZWlzmo14zbHjx9vsT5Sv2rUqIHBgwfj2LFjyMvLU2+uTJw5c8asjn/ppZdKXEeUtdI6jnl5edi8eTOaNWsmfw/e3t6YP38+UlJSsHbt2hKfTxITE+Hl5aX4jocPH67O9sgSExPRo0cPbN68udx+T1Q8lsqf6Ss0NFSRf9euXUXmKUpOTg7CwsLQv39/dOrUyWx7ksm53dLnmb5My4Q67+OoRyx9X0WVy7IqfzBpP/v7+8ufVbNmTUyZMgXx8fE4dOgQwsLC1KtZpaz+jszMTAwaNAhhYWHIyclRJ5c9UQwARDFXeWIYDAZx4sQJ0aZNGwFAuLi4iNOnT6uzWSU7O1u89957wtXVVXz//fdCr9cLvV4vtm3bJpycnOTvediwYUIIIZKSksTbb78tL3dxcRG7d+9Wb7bMXL58WVSvXl3en/DwcHWWMhEbGys+/vhj9eJClcZxPHDggHB3dxetW7cW58+fFwaDQeTk5Ih169aJp59+WgAQXbp0EQ8ePFCvarVvv/1WcbyLu4/WMP0dlufv6XHQcl1lK+Lj44Wfn598LExfAQEBIi0tTb1KkSIjI0X9+vVFUFCQiI+PF0IIkZycLPr06WNWXnJzc8VPP/0k6tevL6cNGDCgRJ9bGvR6vZgyZYq8L49aR5SUwWAQy5Yts7pOKa3jmJmZKf7xj38IOzs7MXfuXJGZmSkMBoOIjo4Wr732mrzNRzmfJCcni7/97W/ytozn0NJm/B2W5+9JC4zHsTTcvXtXdO3aVfH79fX1FYmJieqsQggh0tLSRGBgoHB3dxd79+4Ver1enaVAsbGxws/PT7Ru3VpERUWJzMxM8dZbbyk+u0+fPiIrK0teJz09XQwdOlSRJygoSGRnZyu2LfL/ltatW4uVK1cWa7+KoyTtvLIof7m5ueLjjz8WkiSJt99+WyQnJwuR304eP368/Nnz5s1Tr2q1svg7hMnvxM/PTz6flTbj31CUonOYsHajT5qoqCjRvXt3RSEtaQM9NzdXjB49Wri4uIijR48q0u7cuSMaNGhg8QeYm5srBg4cKKfVrVtXxMTEKNYvK+r9tKaSKG3G77E4hbQ0juPdu3eFr6+vcHBwEL/99ps6Wdy6dUs0adLkkRt64eHhJd7H4tDr9WL8+PHCzs5ObN26VZ1cYWm1rrIVOp1OjBs3TlHW1K+wsDD1aoU6efKkcHd3F8OHDzdrIM2bN6/A8nLkyBHFRbbiXkAqTab7+ah1REmdPHlSNGrUyKo6pTSP41dffSUAiP79+wudTqdIMxgMIjQ0VOARzycPHjwQXbp0kfetOOeH4vrjjz+Ep6dnsQJiKh7jcSwt0dHRonbt2vJ27ezsxP79+9XZhMgPCDp16lTs86KxDdCxY0eRkpIiL1d/drNmzURSUpJiXXUeHx8fcfv2bUUeIYRITU0Vr7322mNtA5aknVcW5W///v3Czs5O+Pn5idTUVHWy2Lp1q7Czs3ukYLAs/g6jxMRE0aJFC9GkSRNx69YtdfIjs7YM8THRIjx8+BChoaGoUqUKGjRooE4uFiEEFi9ejFWrVuH999/Hiy++qM5SIEdHRwQEBMjv//zzT+zfv1+RRyt0Oh3mzJmDVatWqZMKVFrH8cyZM4iKigLy90PNy8sLy5cvx1NPPaVOskn29vaYOXMmnnnmGYwaNQqRkZHqLETFdvXqVZw6dQr79++HXq9HcnIy3n77bUWeHTt2WP2YYVxcHP7xj3/A2dkZM2fOhLOzszpLgZo3bw4fHx/5/ZYtW5CcnKzIoxVXrlzBkCFDkJSUpE6yqLSOY1ZWFrZu3QrkPyr6vzbK/5MkCRMmTEBgYKBiuS177rnn8PHHHyMiIgIffPCBxfMB2RYfHx989NFH8nuDwYAZM2ZY7Hqzdu1aNGnSBEFBQeqkAqWnp2PkyJGIi4vD3LlzUa1aNTnNx8cHY8aMkd9fvXoVW7Zskd8b8/zzn/+U39+4cQNHjhxR5AGAkydPokqVKqhfv7466Ym3adMmGAwG5OXlwWAwqJPx+uuvY8KECerFNqtWrVpYtGgRbty4gZEjRyI9PV2dpUwwGCxCpUqV8N1332Hbtm345ptvIEmSOovVzp49i1mzZsHFxQWvvvpqsbdVp04dxfu0tDTFey3IycnBhAkTMGvWLHVSoUrrOOr1evnfCRMm4MaNG+os8Pf3R5s2bdSLbVbNmjUxaNAgpKWlYebMmaXe/4C0JyYmBitWrED37t1hb28PDw8PLFq0CD179lRnLZJer8dnn32G6Oho9OzZE40bN1ZnKVSlSpVQvXp1+X1mZqYmG+7Hjx9H586dERMTo04qUGkdRyGEXHfu2LEDixcvNutv5+zsjNGjR8POruI0S/r27Yu6devim2++wb59+9TJZIMGDhyoOD+fOnXKLCi7ceMGtmzZgmnTpsHR0VGRVpgVK1YgIiIC/v7++Nvf/qZOxoABA+Du7i6/3717t1l/sd69e8PBwUF+v27dOkUeIQQ2b96M/v37K/JphbHuPnfuHGbMmGH2/UmShDfffBNubm6K5bbM398fbdu2RUREBFavXq1OLhMVp9YtBZY6xUqShBUrVph1GLXUWbhq1arFuiJtSq/XY+HChcjOzsbzzz+PZ555Rp2lSHfu3FG8r1evnsXOrqGhocjKysLkyZNhb2+PZs2a4fr160B+RbJt2zZFB35/f38cOXLE7Got8oOvBQsWyAMH1K1bFxs2bDA7kSO/kfXSSy8p9sXY8VY90IOlTs8FDS6wbNky6HQ6JCYm4qWXXsLKlSvldf7zn/9AKuYgK49yHJ2dnSHlB5JRUVFo0aIFPvjgA8WVxcqVK2P27NmoXLmyyZr/65g8c+ZMeHt7y39fYd9nYdQD2Dz77LM4ePCg4hjm5ORg2rRpcHJygr29PYKDg3Hx4kWEhIQotgUAL7/8MhwcHPDLL79o9o4zFUxdfo1leObMmYplXl5eSExMRFBQEPz8/BTbcHZ2RufOneX3LVq0gKurqyKPJadOncK6desAAP369ZPLn7UePnyI+/fvy+9r1KiBSpUqmQ3UZNz3w4cPo3nz5pAkCZ9++qlcppKSkhRlrmrVqggODkZGRobJp/2/y5cvo3PnzpAkCfb29hg0aBD+/PNPdTbAwqAQxvrM0jnL0kAO6vrAOKCVsd7/6quv0LFjR/mOaHZ2Nvz8/CAVMThCaR1HBwcHRZ7g4GD4+fnh4MGDirovKCgIffv2ld8j/7ywZ88e9OrVS/77jN9ncQe/Up9jnJycMHnyZLNjeOrUKTz77LOQJAnNmzfHyZMnMX/+fLNzTP369dG+fXsYDAZ88cUXZuc0sj0eHh4ICQmBZFKPLFu2DPfu3QPy22rz58/HiBEjFE8UFCU2NlYetKRHjx5m53/k3/kzfSLs0KFD+OOPPxR5EhIS5AsnyL8LePPmTfn9rVu3cOfOHbRr105eBguDPBXWtlDXF5baDwWx1Oa01J4zstQuNF1Hvb3CtgVAEeStXLkSzZo1w8aNGxUX+F544QWMGzdOfo9SrkeEagCbgrZjbT3i5uYmP/m3YsUKxMfHK9LLhPq50cJY++ypLYuPjxedOnWS/5Zq1aqJK1euCL1eL6ZPny4CAgJEdHS0MBgM6lXF6dOnhYuLi4CFfilFuXz5sqhWrVqhzx+rn9EurM9gs2bN5A6nxs7ExrQZM2Yo8iL/eW/TfhlNmjQR0dHRIjo6WjRp0kQAEKGhoYq/29gvD4CoXbu2uHLlioiNjRXPPfec2baNsrOzRVBQkNnfoNfrxaBBg+Tl6v4yubm5ct+Url27iuTkZLFkyRI5v2k/n2HDhpltvzge5ThmZ2eLwMBAxd+P/L4H77zzjrhz5456FSFM+jt1795dpKeni/T0dMWgFwsXLlTkL6zP4KlTp4Snp6fczy8lJUV07NhR0e/PYDCImTNnCgBi9erVQqfTif3794v69etb/M5Mf3uW+vRUNMbvjkqHXq8Xq1evFnZ2dvJ3+/777wuDwSCuX78ufHx8xNdffy1ycnLUqypMmDBBABBOTk7i2LFj6mSLjOuoy4Gp4vQZNJY1g8EgVq9eLS9v0KCBWLNmjVw3wKSeMvYDAiDmzp0rcnNzxdy5cwXy61J1Xw9jeQcgQkJCRG5urli0aJGQJMls20b79+8XDg4OZn/D77//LpydneX11H13TOuDjRs3ivj4eNG0aVMBVd/yR6n31EpyHI19fYx/h/HVrFkzsWPHDosDYRjPQQ4ODmLbtm1Cr9eLHTt2yMfT9DwoiujrY3qOCQgIEKmpqeKHH34QkiQp+v0Z+221bt1a3L17VyQnJ4u3335bVKlSxeJ3ZvztFdSPnErOeBxLm6XzuLGP2ZEjR0Tv3r2L3Q90xYoV8rbUZdTUhg0bFJ/77rvvyu2u7Oxs0b9/fzF27FhFHtP2z4YNG8SkSZNMtvi/foq+vr4C+e24rKwsMXz4cPm9abvOmvaDsNAeNf2bjG1OT09PsW/fPrnsFlT+TNuZKGDwnJdffln06dNHpKeny8stuXTpkvD09FR8PwBE9erVxTfffGPWn1yUcj1iMBjEwoULBUzq/qNHjwoXFxfFuaC49Yhpm2/9+vXq5BIzbrMoRecwYe1GbV1sbKxo1KiR/Pe8++674sSJE2LgwIGFVgCPcjJdv369/HkFdWxVFz7jD9D4IzIu9/T0FKdOnZLXU/9wa9WqJTZs2CCuX78ufH19hbe3t7h27ZqiUTR9+nR5/Tlz5ghY6Ey9bds2ufFiWmGpG1fqiq+gYM10ubohZPpZxoJw7do10bRpU2FnZyf+/e9/W9yOpcCmKI9yHEURo+s5OjqKf//734qGTU5Ojhz4ubu7i7NnzwpRxGASBQWDycnJ8kioPXv2lCs+47aMndLv378vWrRoIZDfeDUeu5MnT4rJkyfLn2Nk+huqVauWuHnzpjpLhWL87qj0GAwGOQAy/pbPnDkjxo8fb9UgC9nZ2aJnz54CgBgxYoTIzc1VZzGTmpoql7UGDRoUeLHFUjCo1+vlCyDGtHHjxik+17Sc2dnZiT59+oj79++L0NBQIUmS+Oijj8R///tf+eKaadmIj48XdevWFQBEYGCgXBZNy5K7u7u4ePGiEBYu6KnLfEH1kulyqOpb088yDqhgMBjErFmzBADxwgsvyI2cgrZfXCU5jiL/9xMWFmYxIAQg/P39RWxsrGKdAwcOyOeFcePGCZ1OZ3aeLOj7gOr8sG7dOgFASJIk9u3bJ4TqnGscCMfYqG/UqJG8P7m5uWLKlCkWvzPT35DpeZUenfF7fRzU7RgfHx8RFRUl+vTpI44cOaLOXiidTif69+8vYEXZSkpKEs2aNZM/13QgmWPHjon+/fuL6Oho4eXlJedp166dSEtLEzqdTrz55puKiw6m9Yrptoy/S9M6yNr2g7DQHjUtZ1u3bhV+fn4iOjpaXiaKKH+m33ft2rUV66ampoq+ffuKS5cuycsKs3v3bkWdaPpq3LixiIyMVOQvzXrE9O8w1hmm+Y1t5eLWI6b1c2lekDf+DUXR1GOiRt7e3vjggw/k96tWrcKYMWPw8ccfP7bnjE+ePKleVCTjI5Cenp74z3/+g+eeew4LFy7EzZs3zR7dMdW0aVMEBgaiSZMmuHTpEmJjY9GkSROsWbMGubm5AICnn35azt+sWTMgvzP1mjVroNfrodfrsWXLFvmxgfr168uPVfj4+KBWrVry+o8qJycHX3/9NYQQcHZ2lh+hfeaZZ3D16lXk5eVh4sSJ6tXKTb169XDkyBGEhoaa9SfQ6XSYNGkSxo8fLz+24ODgIH/faWlpuHbtmmKd4vj9999x6tQpIL+vn/px12vXruHixYvIy8vDw4cPAQDTp0/Hu+++i4yMDLRt2xaLFy9WrKOWnJxs9kgykSRJGDlyJHx9fYH833K/fv1QqVIlvP766+rsZm7evImTJ0+iSZMm+OSTT8zKjiVJSUnF6uMGk0cgHRwc0KNHD+j1egwaNAgnTpzAl19+WeDnGgwGjB07Fp6envjwww9hMBgwa9YsXLx4EXv27AEAODk5yWXOzc0NDRs2BADs379fftzr4sWLOH78OJBfz3p4eAD5g4C98MIL+Z9WOo4ePSoPMPHMM8/A3d0dkiTho48+ghACp0+fRr169dSrPZKSHEfk/37Gjx+PixcvWuxTffz4cbRp0wanT5+Wl7m6usrbP3fuXJED1RQkMzNT7ovj7Oys6ENqtG/fPjx8+FD+jJiYGHTu3BkHDx6Eg4MDFi5cWOTxu3btmuIRP7Jd/v7+ePPNN+X3N27cwOuvvw5vb2/4+/sr8hYlLS0NV65cUS+2yNhH3+jq1as4dOgQAODAgQMYMGAAGjdurBhMKTIyEqdOnUJ0dDT++usvtGzZUk67cOGCXD/VrFnT7JHttLQ0/P7770Ax2g+F2bNnD7799lvs2rWrWI/Rmn7fiYmJ+O677+T2pbE+adGihWoty/r27Ytr167htddeUyfh5s2b6NChA7Zv3y4vK616RAihaEd7eXmps+DQoUNISUl5pHokLi4ODx48UC9+rDQZDELViTg3NxeNGjUqUT8+a5mOENSkSRNFWkGGDRuG/Lu3yMzMxB9//IEpU6YoAjlLWrVqZfa8ekpKimKkSNN9MD2ZX7hwAWlpaUhLS8OFCxfk5dYW0pJITEzE+fPn1YttmrOzMz788EMkJiZi6tSpZg2ilStXIiIiAsgPBv/zn//g8OHD+OOPPzBgwADs3LkTa9euVaxjDdOLCsaLBZIkyf0AhRC4efMmatSogX79+sl5v/rqKzz//PM4fPiwvMyUq6sr6tatC+T3mfjrr7/UWYhQo0YNRZ/Te/fuoU+fPvKFooLodDosWrQIALB+/XqLJ1FLsrOz5YsaDRo0MKvXLHFxccHp06fluvPOnTvYuHEj2rVrV+h+VqtWzWLdfPr0aWRnZwOqfTD2FUH+OcRYX164cEFuLDRs2BBVqlSRt1XafvvtN7lBVRZKehxNtWjRAsePH0dERARat26tSEtOTsbMmTPlQSH8/f1x48YN7N27F/v370d2djbmzJlT7D419+7dky/CmfaXrFOnDm7fvg3k98XKzMxEz5494enpCQCIj49HQEAAJk2aVGADslatWnKjOjk5Wf69km1zcHBASEgIateuLS9LTU3F5MmTiz0wi06nk/u5Va1aFTVr1lRnUejZsyecnJzk92vXrkVsbCwuXLiArl27QpIkxSCDQgjs2LEDv/zyCzp27Ki4aXH16lW5fjp8+DCqVKkCSZIUo6AaR0C3tv1giRACy5Ytw6uvvorOnTsX+TeqOTg4YOTIkfLf/e233+LWrVvQ6/XYunUr3njjjULrZ7V69eph27ZtOH/+PLp3765I0+l0mDFjBu7evQuUYj2SlpaGS5cuye+DgoIgSRKqVKkit62SkpJw//79YtcjNWvWRNWqVYH8+qqs6xHNBoMeHh54//335ffh4eH49ddfFXkeF3XgUNqMjXpTppUVCtkH40h76vyP019//SV34M/JySl2AS1LP/30E3755Rf5vYeHBxYsWIDk5GSMHz9eXi6EkIdSR/733aFDB9y7dw/NmzfH2bNnMXjwYDndWqYdlPv37w+dTic3eo2vsWPHQpIkzJo1CwMGDJDz37x5E926dcOyZcvMGpCSJBX7BEja1K9fP3nwAr1ejy+++MJsRDe18PBwbN68GatXr0bbtm3VyVaxt7cvVmOhuCpXrqwY6c/IdNTmwvbBmK8sR3k2rQ9u37792Ovskh7HzMxMzJ07V27g2Nvbo1u3bjh79iwiIiIUI8QeO3ZMHvgG+U+ltG3bFjNmzECXLl0QGBhY7CH1Tc8xDg4OchBt+oqKioKnpyd8fX2xdu1auLi4yOuHhYXhpZdeMhsgAgDs7OwK/E2QbatVq5biJoCzs7NVF5wKY29vL18kKkjr1q3RtWtX+f3Jkyfx1VdfoXbt2qhRowYAoE2bNooytmnTJmzZssVsgCXT36Sfnx9SU1PNfttLly41y1tY+8GSKVOmYMKECdDr9Zg1a1aJpqHy8/PDK6+8AuRPj7Z582ZcvXoVOTk5ZheGCjJ37lx5ICxJktCqVSvs378fUVFRiicOrl69irNnz8rvS6MeefjwoTzQEPIviKm/v5SUFDRv3rzY9Yg1v5vHSbPBIAB07NhRDpwMBgOWLl1aZKOmNJTHsOaOjo5WVXKVK1eGo6Mj7OzsFMHB49xnBwcHRSGwdlSr8qDT6bBjxw6z/Xv66aexdOlSxSi0pt9ZamoqhgwZgh49eqBr166YOXMmKlWqJKdbyzSIv3LlSqENTzc3N/zwww+YP3++vJ7BYMC//vUv+UqhkTAZ+p2oMG5uboqrznv37sXRo0cVeUxFRkZi/PjxWLNmjVWPkxbE0vx0ZcFSgGiJMZ9pGX3c+2z6WZcuXUJcXJwivTQ96nE8c+aM2VQ8kiShW7duiIiIkO/K5uXlyXWREAK7d+9Go0aNsH79eqxfvx7PPfecYhvWMD3H6PV6s/pPrW/fvjh37pyicXn69GnMmzfP7HgaDAazZaRdeXl5FkfwNOXs7IwRI0bI79PS0rBixQoMHTpUvrDg5uaGXr16yXmSk5NRpUoVs0czTeuAmJiYQucQLU77QW38+PH4/PPPgfy76xMmTLA4P2NhHB0d8dZbb8l/49q1a7F06VL069fP7JHVgsTExCgeJTdq0aIFDhw4oJiPu7TrEXW7uKjuX8WpR6z53TxOmg0GhRD44osv0KVLF3leoz179jy2uYJM+21ER0cr0sqCu7s7WrVqJb837RN2+fJl+f/NmzeHu7s73Nzc5L6EKIV9LizYaNCgAZo2bSq/3759u+JRBSEEbty4Ua4FxZR6/4wkScLQoUPlCwzG/kQ5OTkYPnw4tmzZAgcHBwwbNqzAO7NFMa1Urly5Ij+KarR79265vxLyK98PPvgAp0+flo9nWloaYmNjTdb636TQxmHvJUmyumIm7YmKisLBgwfRvn17IL8xPGfOHIt3peLi4jB69Gh8/vnniseA8vLysG/fPnz55ZfqVRSqVq0qPxZfFne+LGnVqpX8aNP9+/flu1sPHjyQy5GDg4Pcl7JVq1by31ka+1xYsGF6dyEtLQ2bNm1S5E1NTVVcyS6pRz2OyO+qoN4/Iy8vL7lxXLVqVXmy7l9++QWvvPIKMjIyEBAQgOeff161pnXq1q2ruAvw/fffK7pupKen44svvlBcwHvmmWdw+PBhxZy2ly5dMnvMKykpSb6I7OrqyicsNKhSpUryHb2//vpLfjyxMJ06dVI8Zv3iiy+a3R3r16+f4s7S0KFDzS4im9Y3qampZherIyMjsXPnTqAE7QdTjRo1wpQpUzB69Gggf9qEadOmFftGQceOHeWpaa5evYq9e/eaTZNRGJ1OhzVr1lj8XDc3N7zzzjtAfv9u42OapVWPqNvFe/bswa1bt+T3Op0O//73vxVBsrX1yN27d+XuOcabMmVJk8GgEALLly+HTqfD119/jf79+8vLZ8yYYfEWLvIb9ca+IMVVkj53er3e4omzJBwcHPDWW2/Jga/pj9X4+IydnR3Gjh0LBwcHVKpUSdHn7NSpU3Iwl5mZqbiDeu/ePcV+mgZ2Fy9exP3797F582Zs3LhRXm6qatWqiscZExMT8dZbbyE2NhY6nQ6rV6+2+Ggj8uf2iY2NRUhIiNWNrkc5jsjfvzFjxiA1NVWdhLS0NGRlZcHT0xMDBw4EAFy/fl1+nlyv1+PGjRtISUnBzz//LK939+5ds8rBko4dO8oVnBAC48aNw759+6DX63HixAkcPHgQfn5+SExMxLBhw+QGT6tWrbBq1So4ODgUGezVrFkTjRo1Ui8mQkJCAqZMmYK5c+di/vz5cpB0+PBhxfyfyG9gjxw5EhcuXMA///lP+XE64yPJffv2LbKfdtWqVYs9AIoQAgaDQb24xFq3bo0ePXoA+X+TMRg0rUd69eolDwrQqlUrub6/c+eOfOFICKGoM9LT0+W+PlD1GcnOzsbFixeRmpqK4ODgAp9Y6dy5s+JOwdy5c7F69WrodDrExsZi5MiRFuc2zM7ORkxMDDZv3ozdu3erkxVK4zgazZ07F5s3bzary0V+307kT8zt7e0N5D8aZzyWcXFxSE1NxZEjRxTnaGvuhnp4eCj6Ff32229455135IEeFixYgLZt28LR0RGLFy/Gpk2bgPw7ONOnT5fbCEUFe61btzZrrFPFUdK7M1WqVCl2/9k6deooBokZMWKE2Xm5RYsW6NSpE5B/QcN0jkIj0/oGAGbOnCnXAdHR0fj222/RsWNHoBjth4I4Ojpi9uzZ8oWvVatWYfHixWbluTCVK1dWzAH46quvyuXdWlu2bMHChQstHitjPdKjRw85uC6tekTdLo6JicGwYcPktuqXX36JWrVqwcPD45HqEeNNmTKlHl60MLByiFJblpmZKebOnSvq1q0rrly5IoQQ4tdffxX29vby3/f666+LlJQUxXq5ubni008/lfMAEEuWLLF6WO2bN2+KWrVqCRQwHYJerxfbtm1TDHXcqFEjcfnyZXVWM+p5Bt9//32L+6XT6cSHH34oUMA8g1OmTFGsl5aWJgICAgTyh0s+evSoSElJEVOnTjUb1td0mHT1kM3Gl+mQ4v7+/iI1NdXiZ6lfpnNACQvz9AAQX331lZxemEc9jqbDiDdu3Fhs27ZN5OTkCIPBIM6fPy9at24tXFxcxO7du+V1TOeYNL58fX3l4d+NL+NcN+r5z5ydncXvv/8ub2/x4sWK9Ywv0zlujEMdt2nTRpw/f17o9Xp5Tq3u3bsrhrQXqmGk+/TpU+R8cbbO+J1Q6TD9fRvnF8zNzRWvvvqq/F27uLiInTt3ymnGOUoLelk7hcn06dPl7Vsakjs5OVkxZycA8emnnxZZptXlrHr16uL8+fPqbEIIIS5cuCBPUaGeZ7B+/fri3Llzivxbt26V67vhw4eLrKwssW/fPtGxY0ez78E4pLl66gnjy/TcBEBs2rSpwM8yfannDUtLSxPt2rVT5PH19RV3795VbM9UaR1H9VDt48aNE7GxscJgMMjnZDs7OzFgwABFXW+cz9D0FRwcbDa1j3HuSPW5cNCgQfI0P/Hx8aJVq1Zm24NqLrbw8HDh6OgoPv/8c5GZmamYh23nzp3yvhkZh+WXJEkcOHBAnUyPwHh8HpfLly8rphmTJEmsW7fO4pyXRTGdPkw93VZBjh07JpycnBRTOqgZpygYMWKEYr5AU8bfrPp37e7uLk6ePKnIa037QeR/N9WrV5fTlyxZIn/+pk2b5OV2dnZi9erVQq/XF1r+TBmnuCjOPKVGplOLBQUFiQsXLgi9Xi9yc3PFunXrhIuLi/Dz81PMG1ia9ciDBw9E7969zbYHQIwePVo+7xS3HjFtW65YsUKdXGLGbRal6BwmrN2orVLP1+Ti4iK++uors8AGJnNaqU9ill4FzRtoSqfTiZEjRwqYzAdlpN4v9auw+bXUc6UUtY5erxebNm2SJyUGIJo2bSo2bdpksdCmpKSIMWPGyI2NwYMHi0uXLonnnntOBAQEiOXLl4uLFy8qggeDwSA2btwonn76aQFAeHl5iY0bN4o333xTsY/qebays7PF/Pnz5cma3d3dRXBwsMjMzJTziPwGyuzZs4WdnZ1wdHQU8+fPL7LhV1rHcffu3WLu3LkiJydHhIeHiw4dOsjfjaurqxg1apSiEhL538eXX34pnJ2dhaOjo5g0aZJIT08XaWlpYtCgQQKAaNmypRz4m86ZZnyZNoQNBoOIiIiQKys7OzsRFBSkmKPrwYMH4rPPPhM3btwQ77zzjvxdjR071uxChxBCREZGyhNbb9iwQZ1c4Ri/Nyodpidg5F/QUi8zvj7//HMRGhpqtlz9svaig2n9qJ6Mt6B9ML4KK9OWyllh68THx4tRo0bJjS5HR0eL5V3kl9G9e/eKxo0bC+QHmrt27RLz588XjRs3FhMnThR79+4Vd+/eVTTwEhMTxWuvvSZvf/DgwWLXrl1m5wd1YzMqKkp06tRJTm/fvr04evSoIo/Ib+C1bNlSABBt2rQR165dU2eRGQyGUjuODx48EKNHjxbR0dHi9u3b4v333xc1atSQt+Hr62vxHBQfHy86deokJEkSvr6+IiIiQv5un376aWFnZydmz54tcnNzCzwXml58TU9PF5MmTRKurq4CgKhTp474+uuvFZ+7b98+sWfPHrFjxw55PrimTZuKvXv3mjXGDQaDGDp0qIDJXHBUeozHsLSZNrwLelm6aF+Y27dvCx8fH4FizDdpnLPTdB5ntZiYGNGoUSN5bsyCREVFic6dO8vtkfbt28tzGpuypv1QUJt03rx5BZazGTNmWFxe0PcYFhammOvQWpMnTxa///67SE5OFqGhoYr5GL28vMTSpUvNtlna9YixrWqsw9zd3cUnn3yi+Nzi1CPCZL7vunXripiYGHVyiRn3vyiSKMb9XeNzycVYhUycO3cO3bp1Q3Z2Nn799ddiz2VD9LiEhoYiJCQEXbp0we7du60abMiWsa56cuj1ekyYMAErVqzA4MGDsW7dukIfsSEqK3/++Sc6dOiA27dvY+vWrSUaWIcKVtHq8UWLFmHq1Klo164dfv7558c2b3VFJ4TAxIkT0aFDhxKNqv6kyczMRGBgIA4fPox58+YhODhYnaXErC1DmuwzWF5at26NadOmITc3F99//32RB4eoLNy7dw/r1q2Du7s75s+fX+EDQXqyOOTPB9akSRP89NNPuHr1qjoLUbnYtWsX4uLiMGrUKEVfItKmUaNGISAgAJGRkQUOxEL/69d34cKFYg0c8yQ7fvw4fvvtNwQEBCj6U5Yl3hksYzqdDu+++y6++eYb7NmzRzF0MFFZy8vLw8yZMzF//nxs3rxZ7uBc0bGuevJERkaiZ8+eePHFF7Fp0yZetKBydfXqVXTr1g0tWrTAtm3beBfoMaiI9XhcXBy6d+8OR0dHREREoFatWuosmnP+/Hn06dMHVapUQXh4OGJiYhAREYH58+fLx1ir7t+/jz59+iA9PR0HDhwo9kBERbG2DPHOYBlzdHTE8uXL8d5772HAgAEIDw8v8iARPQ4ZGRmYMGECwsLC8OOPP/IRJ7Jpbdu2xaFDh3Dx4kUMHz7c4mi+RI+bEAIHDx5Ejx494O/vj82bNzMQJJmXlxcOHjwIFxcX9OvXTzH1gFadOXMGd+7cwbVr13Du3DmEh4djxIgRmg8EL1++LI9UvX///lIPBIuDdwbLiRACv/32G2bPno3Q0FD87W9/U2cheqyWLFmCixcvYtasWcUevt/Wsa56cmVkZGDOnDnIysrCsmXL1MlEj1ViYiKGDx+OUaNGoX///vJk9lT6KnI9npOTg9WrV+Po0aP45ptvNP0kQ3p6Ot555x388MMPqF69Or777jv07t1bnU1TMjMzMXLkSHTs2BGjRo0ym1aktFhbhhgMEtETh3UVEVHFxnqc6NFYW4b4mCgREREREZEGMRgkIiIiIiLSIAaDREREREREGsRgkIiIiIiISINKNIAMERERERER2baiQj3eGSQiIiIiItKgEt0ZLMYqRERljnUVEVHFxnqc6NFYW4Z4Z5CIiIiIiEiDGAwSERERERFpEINBIiIiIiIiDWIwSEREREREpEEMBomIiIiIiDSIwSAREREREZEGMRgkIiIiIiLSIAaDREREREREGsRgkIiIiIiISIMYDBIREREREWkQg0EiIiIiIiINYjBI5SYvLw/Hjh2Dv78/9uzZo04mIqJCZGZmokePHnjppZeQmZmpTiYieizYfnuyMBikMieEwE8//YTu3bujQ4cOOHHiBAwGgzobEREVQAiBL7/8EgcOHFAnERE9Fmy/PZkYDFKZkyQJvXr1QkREBIYOHapOJiKiIhw9ehTfffcdXFxc1ElERI8F229PJgaDVG4kSUKrVq3Ui4mIqBAJCQmYPn065syZA09PT3UyEdFjxfbbk4XBIBERUQWh0+kwe/Zs/P3vf0e7du3UyURERMXCYJCIiKiC2LRpEwBg5MiR6iQiIqJiYzBIRERUAURGRmLlypWYOXMmHB0d1clERETFxmCQiIjIxqWnp2PhwoVYtGgR6tWrp04mIiIqEQaDRERENkwIgVmzZsHPzw9t2rRRJxMREZUYg0EiIiIbtn37diQnJ+O9996DJEnqZCIiohJjMEhERGSjMjMzERYWhnXr1sHJyQmSJMmvOnXq4Pbt2zh8+DCqVKkCLy8vJCYmqjdBRERUIAaDRERENsrBwQF9+/bF6NGjzV5Dhw6Fk5MTPD09MWLECAwZMgTOzs7qTRARERVIEkII9cKCGB9PKcYqRIUKDQ1FSEgIwsPD0a9fP3UyUYmwriItSExMRPv27dGwYUPs3r0blStXVmchqrBYj9s2tt9sn7VliHcGySZkZGSoFxERERGRDWP7reJjMEjlJiMjAxEREQCAn3/+GVlZWeosRERERGRD2H57sjAYpHIRGhoKNzc3HDhwAACwbt06VK5cGbt27VJnJSIiIiIbwPbbk4d9BonoicO6ioioYmM9TvRorC1DvDNIRERERESkQQwGiYiIiIiINIjBIBERERERkQYxGCQiIiIiItIgBoNEREREREQaxGCQiIiIiIhIgxgMEhERERERaRCDQSIiIiIiIg1iMEhERERERKRBkihqWnoTxpnsiYiIiIiIyLYVFerxziAREREREZEGlejOYDFWISIqc6yriIgqNtbjRI/G2jLEO4NEREREREQaxGCQiIiIiIhIgxgMEhERERERaRCDQSIiIiIiIg1iMEhERERERKRBDAaJiIiIiIg0iMEgERERERGRBjEYJCIiIiIi0iAGg0RERERERBrEYJCIiIiIiEiDGAwSERERERFpEINBIiIiIiIiDWIwSGUuLy8PGzZsgLe3NyRJgr29Pbp06YLLly+rsxIRkQm9Xo8hQ4ZAkiTFq169eoiNjVVnJyJ6bHJycvDDDz+gffv2cHJygqurK86cOaPORjaOwSCVKZ1Oh7fffhtDhw5FRkYGateuDYPBgCNHjqBly5bYtm2behUiIsp36tQpbN++Xb0Yo0aNQsOGDdWLiYgei8OHD6Nly5YYMWIE2rZti3PnziEtLQ0vvPCCOivZOAaDVKZ+/fVX3Lp1CzExMUhNTcWdO3cQHx+PTp06wWAwYNKkSby6TURkgU6nw7Jly7Bz504IIRSvTz75RJ2diKjUCSGwdu1adOvWDVWrVsX169exdOlS+Pr6wtHRUZ2dKgAGg1SmLl26hK+//lpxBbtevXpYs2YNateujT///BNXr15VrENERMCJEydgMBjQpUsXdRIRUZnYvn07Ro4ciS5duuDnn3+Gt7e3OgtVMAwGqUy99957FiuOxo0bo2vXrkB+nxgiIvp/Op0OYWFh2LhxI5o3b4758+cjJSVFnY2I6LGJiorCuHHjUK1aNYSFhaFatWrqLFQBMRgkmyBJEhwcHODi4oI6deqok4mINO3EiRPYuXMnACAuLg7BwcGoXbs2FixYAJ1Op85ORFSq9Ho9Fi9ejOTkZIwbNw4tWrRQZ6EKisEg2YTMzEzExcWhU6dOrGCIiFQ6deok15MrVqxA48aNodPp8OGHH2LixIkMCInosYqOjsaPP/4IJycnNG3aFGPGjIGTkxMkSYKPjw/27dsHIYR6NaoAGAySTbh16xauX7+OKVOmwNnZWZ1MRKR5jo6OaNCgAcaOHYtr165hyZIlsLOzw8qVK7Fr1y51diKiUnP27FmkpqZCkiTExcVh3rx5yMnJwd69e5GSkoLAwECLIx2T7WMwSOVOr9djyZIleOONN/Dyyy+rk4mISMXe3h4TJ07E559/DiEEvvnmGzx8+FCdjYioVBjngg4MDERwcDA8PDxgb2+P3r17IywsjCPCV2AMBqnc7dy5E4mJiZg1axYkSVInExGRBZIkYeTIkWjTpg2uXr2K9PR0dRYiolKRkJAAAHB1dYWDg4MirWvXrvDy8uKI8BUUg0EqV5GRkVi1ahVWrlwJNzc3dTIRERXCw8MD7du3h16vh8FgUCcTEZWKwtpoHh4e8PX1BTgifIXEYJDKTVxcHObMmYOVK1eiXr166mQiIrJC3bp18eyzz6Jq1arqJCKiUmEM9rKysswCvkqVKsHT01OxjCoOBoNULpKSkvDZZ59h0aJF8PLyUicTEZEVdDodIiMjMWTIEFSqVEmdTERUKjp06AB3d3ecPn0ad+/eVaQ9fPgQycnJ8oUpqlgYDFKZS0pKQkhICKZMmQIfHx9FWl5eHlasWIGoqCjFciIirRJC4Pz58zh//rzZ0O3h4eH473//i1dffVWxnIioNPn6+mL48OGIi4szG704ISEB586dw4ABA+Dt7a1II9snCfWZpRDGwT2KsQqRQlxcHPr27Ytbt26hWrVq6mQkJSWhW7du+PHHHznFBJUY6yp6kty9excvvvgiYmJiMHjwYISEhMDFxQXLly/HvXv3sGzZMov1KVFFxnrc9qSnp6N///44fvw41q9fj6CgINy+fRvDhw+Hk5MTtm3bVmjfQipb1pYhBoNUZhISEtC9e/ciR5pav349/v73v6sXE1mNdRU9SYQQ2Lx5MyZMmID79+/Dzs4O/v7+mDZtGnr16gV7e3v1KkQVHutx25SVlYXPPvsMS5cuRU5ODmrUqIGpU6di/PjxvIhvY6wtQwwGieiJw7qKiKhiYz1O9GisLUPsM0hERERERKRBDAaJiIiIiIg0iMEgERERERGRBjEYJCIiIiIi0iAGg0RERERERBrEYJCIiIiIiEiDGAwSERERERFpEINBIiIiIiIiDWIwSEREREREpEGSKGpaehPGmeyJiIiIiIjIthUV6vHOIBERERERkQaV6M5gMVYhIipzrKuIiCo21uNEj8baMsQ7g0RERERERBrEYJCIiIiIiEiDGAwSERERERFpEINBIiIiIiIiDWIwSEREREREpEEMBomIiIiIiDSIwSAREREREZEGMRgkIiIiIiLSIAaDREREREREGsRgkIiIiIiISIMYDBIREREREWkQg0Eqc0IIHDx4EM8++ywkSYK9vT369u2L69evq7MSEVG+nJwchIWFoW7dupAkCZIkwd/fH0eOHIEQQp2diKjUXb58GX379oW9vT0kSULVqlURHByMjIwMdVaqIBgMUpnbvn07Bg4cCF9fX7zxxht46qmnsHfvXgQGBiIuLk6dnYhI83Q6HSZNmoQlS5Zg48aN0Ov1yMnJwcCBA9G7d29s375dvQoRUamKjIxEx44d0aJFC9y7dw8GgwEnTpzAwYMH8frrryM9PV29ClUAkijG5URJkoD8OztEJREfH4+lS5di2rRpqFatGgAgNTUVr7zyCo4ePYpFixbh/fffV69GVCysq+hJEx4ejtdeew179uxBr1695OV6vR6DBw/GlStXcPjwYXh6eirWI6qoWI/blszMTAQGBqJSpUr48ccf4ezsLKcdPXoUXbt2xbJlyzB27FjFelR+rC1DvDNIZSo7OxsffvihHAgCQLVq1TBu3Dgg/+o3EREpXblyBU899RQ8PDwUyx0cHPD8888jKSkJ9+/fV6QREZWWBw8eIDY2Fh4eHqhUqZIizdvbGzVr1kRUVJRiOVUMDAapTDVt2hTVq1dXL0ZCQgJcXFzw8ssvq5OIiDTP3d0dOTk5WLVqleKimU6nw6lTp/Diiy/C29tbsQ4RUWlxdHRE5cqVsXfvXpw6dUqRFh0djYyMDPTr10+xnCoGBoNU7uLi4rB27Vp8/PHHeP7559XJRESa16dPH/j4+GDVqlUIDg5GTk4OhBDYvn07oqKi8Nlnnyke2yIiKk2enp4YNmwY0tLSMGDAADkgTE1NxZw5czBmzBi89NJL6tWoAmCfQSo36enp+PHHHzFt2jR06dIFa9asgYuLizobUbGxrqIn0S+//IKBAwciLS0Nfn5+eOWVV3D8+HGsXLkS9erVU2cnqtBYj9uerKwsjBs3DuvXr4ednR2mT5+O06dPY+DAgRg+fDjs7e3Vq1A5srYMMRikcpGYmIj27dvj9u3b8jJfX1/s2LEDPj4+irxExcW6ip5Up06dQv/+/REfHw8XFxds27YNPXv2lH/zRE8K1uO2KScnBzNmzMDixYsBAAMHDsTq1avx9NNPq7NSObO2DPExUSoXtWvXRlxcHJKSkjBr1iw4OjoiKioK77zzDjIzM9XZiYg0TwiBu3fv4rnnnoO/vz+ys7PRt29fLF++vMiTPRFRacjJycFff/2F4cOHw9HREVu2bEFAQAASEhLUWamCYDBI5apmzZr46KOPcOjQIbi4uODQoUP4448/1NmIiDRNCIHly5dj6dKlWL9+PQ4fPozPPvsMBoMBEyZMwIIFCxgQEtFjlZCQgMDAQPTq1Qtr167F+fPn0axZM5w+fRrdunXjXNEVFINBsgnt2rVDUFAQ9Ho9/vrrL3UyEZGmRUZGYvr06Xjrrbfg5uYGR0dHzJgxA2FhYbCzs8OCBQtw+fJl9WpERKVCp9PhX//6FwwGgzzXafPmzXHgwAH4+fkhOjoaixcv5kWpCojBINkEBwcHBAYGQpIkjohHRKTy/fffIy8vD02aNJGXSZKEd999F9OnT0dycjKfqiCix+bGjRsIDw9H06ZN4ebmJi+vV68eNmzYgNq1a+P3339HWlqaYj2yfQwGyWZkZmaiQYMGaN68uTqJiEjT0tPT1YuA/IAwKCgIzs7O7G9NRI9NdnY2Hj58qF4MAGjcuDG6du2K7Oxs5OXlqZPJxjEYJJuQnp6ODRs2YMKECahbt646mYhI04wDxhw/flydhJs3b8LZ2RkdOnRQJxERlYr69eujYcOGiIyMxN27dxVpGRkZuHnzJrp27QoPDw9FGtk+BoNUpqZMmQJJkvDKK6/g8uXLEEIgNjYWI0aMgJ+fHyZOnKhehYhI84YMGYKAgAAEBwdj/fr10Ol0yMvLw4EDBxASEoLg4GD4+vqqVyMiKhU1atTArFmzcP36dYwZMwaxsbEAgJSUFEybNg3p6en44IMPOM1NBcR5BqlM7du3D6NGjcKdO3cAAK6urggMDMR7772Htm3bshKhUsG6ip5EOTk5WL16NebNmyfXoe3bt0doaCg6derE+pOeKKzHbdPly5fxwQcf4KeffoLBYIC7uzvGjBmDGTNmcK5BG2NtGWIwSERPHNZVREQVG+txokdjbRniY6JEREREREQaxGCQiIiIiIhIgxgMEhERERERaRCDQSIiIiIiIg1iMEhERERERKRBDAaJiIiIiIg0iMEgERERERGRBjEYJCIiIiIi0iAGg0RERERERBokiaKmpTdhnMmeiIiIiIiIbFtRoR7vDBIREREREWlQie4MFmMVIqIyx7qKiKhiYz1O9GisLUO8M0hERERERKRBDAaJiIiIiIg0iMEgERERERGRBjEYJCIiIiIi0iAGg0RERERERBrEYJCIiIiIiEiDGAwSERERERFpEINBIiIiIiIiDWIwSEREREREpEEMBomIiIiIiDSIwSAREREREZEGMRgkIiIiIiLSIAaDZBPCw8Nhb2+PXbt2qZOIiAhAQkIChgwZAicnJ0iShJo1a2LBggXIyclRZyUiemR5eXk4duwY/P39sWfPHnWyLC8vDxs2bIC3tzckSYK9vT26dOmCy5cvq7OSDWIwSOUuLi4OU6dOhcFgUCcRERGAyMhItGzZEps3b0aNGjXg6uqKe/fu4cMPP0S/fv2Qnp6uXoWIqESEEPjpp5/QvXt3dOjQASdOnCiwjabT6fD2229j6NChyMjIQO3atWEwGHDkyBG0bNkS27ZtU69CNobBIJUrnU6H6dOnw97eXp1EREQAcnJysGDBAsyfPx8PHz5EQkIC0tPTsXr1atjZ2SEiIgKLFy9Wr0ZEVCKSJKFXr16IiIjA0KFD1ckKv/76K27duoWYmBikpqbizp07iI+PR6dOnWAwGDBp0iTExsaqVyMbwmCQytXSpUtRpUoV/P3vf1cnERERgFu3bqF79+4YNWoUHB0dAQD29vZ46623MH36dADA0aNHkZWVpVqTiKjkJElCq1at1IsVLl26hK+//hoNGzaUl9WrVw9r1qxB7dq18eeff+Lq1auKdci2MBikchMZGYndu3fj008/lRs4RESk1Lx5c4wZMwaSJCmWS5KEoKAgODs7Q6/XQwihSCcietzee+89eHt7qxejcePG6Nq1KwBAr9erk8mGMBikcpGSkoJPPvkEoaGhqFGjhjqZiIisYGdnB0mS0LBhQ7i6uqqTiYjKhSRJcHBwgIuLC+rUqaNOJhvCYJDKnE6nw4wZMxAQEIC2bduqk4mIyEp//vknHj58iEGDBpndOSQiKi+ZmZmIi4tDp06d0KJFC3Uy2RAGg1TmwsPD4ejoiIkTJ6qTiIjISkII7N+/H3369EGXLl3UyURE5ebWrVu4fv06pkyZAmdnZ3Uy2RAGg1SmoqKisHTpUkydOpX9BImIHsHZs2exf/9+zJs3j40tIrIZer0eS5YswRtvvIGXX35ZnUw2hsEglZn09HTMmDEDs2fPhpeXlzqZiIislJ6ejo8++giff/45fH191clEROVm586dSExMxKxZs/j4egXAYJDKzJEjR7Bz50507twZkiQpXiEhIQCAoKAgSJKE0NBQ9epERJTf73rmzJno3bs3Xn/9dXUyEVG5iYyMxKpVq7By5Uq4ubmpk8kGSaIYY1Ebo/tirEIk++OPP/Dll1+qFwP5jzudOXMG3bt3h7e3N1577TX07t1bnY3IKqyr6EklhMDChQsBAFOnTuVVd3pisR63DaGhoQgJCUF4eDj69eunTlaIi4vDxIkTsXTpUj4BZgOsLUMMBskmFKeyISoK6yp6EgkhsG7dOty/fx+TJ0+Gvb29OgvRE4P1uG2wtn2WlJSEmTNnIiQkBD4+PupkKgfWliE+JkpERGTjjIFgQkICJk6caBYI3rhxA4sXLy7ypE9EVBIZGRnqRbKkpCSEhIRgypQpZoFgXl4eVqxYgaioKMVysh0MBomIiGyYEAJffPEF/vnPf2LZsmVo3LgxGjRoIL9q1KiBpk2bonnz5nxslIhKTUZGBiIiIgAAP//8M7KystRZEBcXh5dffhlbt25Fz549FXVTgwYN4OzsjB07dqBRo0bqVclGMBgkIiKyYV988QWmTp0Kg8GAxMRExMfHK17379/H888/j3bt2qlXJSIqkdDQULi5ueHAgQMAgHXr1qFy5crYtWuXnCchIQG9evVCVFQUsrKyzOqm+Ph46HQ6vPnmm5z+xoaxzyARPXFYVxERVWysx4kejbVliHcGiYiIiIiINIjBIBERERERkQYxGCQiIiIiItIgBoNEREREREQaxGCQiIiIiIhIgxgMEhERERERaRCDQSIiIiIiIg1iMEhERERERKRBDAaJiIiIiIg0SBJFTUtvwjiTPREREREREdm2okI93hkkIiIiIiLSoGLdGSQiIiIiIqInA+8MEhERERERaRCDQSIiIiIiIg1iMEhERERERKRBDAaJiIiIiIg06P8ARcrL7GttypwAAAAASUVORK5CYII=)"
      ],
      "metadata": {
        "id": "eIgECSvL5qTf"
      }
    },
    {
      "cell_type": "code",
      "source": [
        "import numpy as np\n",
        "from sklearn.linear_model import LinearRegression\n",
        "from sklearn.metrics import r2_score\n",
        "\n",
        "# Data\n",
        "x1 = np.array([1, 2, 3, 4])\n",
        "x2 = np.array([4, 5, 8, 2])\n",
        "X = np.column_stack((x1, x2))  # Combine into 2D array\n",
        "y = np.array([1, 6, 8, 12])\n",
        "\n",
        "# Fit linear regression model\n",
        "model = LinearRegression()\n",
        "model.fit(X, y)\n",
        "\n",
        "# Coefficients\n",
        "beta0 = model.intercept_\n",
        "beta1, beta2 = model.coef_\n",
        "\n",
        "# Predictions\n",
        "y_pred = model.predict(X)\n",
        "\n",
        "# Residuals\n",
        "residuals = y - y_pred\n",
        "RSS = np.sum(residuals**2)\n",
        "n, p = X.shape\n",
        "RSE = np.sqrt(RSS / (n - p - 1))\n",
        "\n",
        "# R^2 score\n",
        "R2 = r2_score(y, y_pred)\n",
        "\n",
        "# Results\n",
        "print(\"Regression Equation: Y =\", round(beta0, 2), \"+\", round(beta1, 2), \"*x1 +\", round(beta2, 2), \"*x2\")\n",
        "print(\"Intercept (beta0):\", beta0)\n",
        "print(\"Coefficient beta1 (Product 1 Sales):\", beta1)\n",
        "print(\"Coefficient beta2 (Product 2 Sales):\", beta2)\n",
        "print(\"Residual Standard Error (RSE):\", RSE)\n",
        "print(\"R^2:\", R2)\n"
      ],
      "metadata": {
        "id": "8ZxsrvaR9iDc",
        "outputId": "238d3db1-31fa-42bf-f1de-0ac5a6c14942",
        "colab": {
          "base_uri": "https://localhost:8080/"
        }
      },
      "execution_count": null,
      "outputs": [
        {
          "output_type": "stream",
          "name": "stdout",
          "text": [
            "Regression Equation: Y = -1.7 + 3.48 *x1 + -0.05 *x2\n",
            "Intercept (beta0): -1.699453551912569\n",
            "Coefficient beta1 (Product 1 Sales): 3.4836065573770494\n",
            "Coefficient beta2 (Product 2 Sales): -0.05464480874316936\n",
            "Residual Standard Error (RSE): 1.2022292590254282\n",
            "R^2: 0.9769664511353493\n"
          ]
        }
      ]
    }
  ]
}