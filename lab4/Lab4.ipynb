{
  "nbformat": 4,
  "nbformat_minor": 0,
  "metadata": {
    "colab": {
      "provenance": []
    },
    "kernelspec": {
      "name": "python3",
      "display_name": "Python 3"
    },
    "language_info": {
      "name": "python"
    }
  },
  "cells": [
    {
      "cell_type": "markdown",
      "source": [
        "Given the data below, perform the following\n",
        "\n",
        "![image.png](data:image/png;base64,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)\n",
        "\n",
        "a) Perform logistic regression-based classification using the Newton-Raphson method. Assume initial beta values as β₀⁽⁰⁾ = 0.5, β₁⁽⁰⁾ = -0.5. Calculate and update the beta values for two iterations, and provide the final equation for the fitted model.\n",
        "\n",
        " b) Test and classify input sample given x=5 using the final fitted model.\n",
        "(Note: Perform hand calculation and calculate all the parameters mentioned for questions Q 1a) and Q 1 b) given above. Upload the image of your hand calculations.)\n",
        "\n",
        "c) Write a Python code to perform logistic regression using the Newton–Raphson method (as given in Question 1a). The code should calculate and display the beta values for the two iterations (consider the initial beta values given in Q1a). Test and classify for the input sample x=5 using the final fitted model.\n",
        "(Note: The Scikit-learn library does not allow initializing beta values manually, so implement the code using basic matrix operations and functions. Ensure that the code output matches the hand-calculated answers.)\n"
      ],
      "metadata": {
        "id": "urk2TNu3SeU2"
      }
    },
    {
      "cell_type": "code",
      "execution_count": 1,
      "metadata": {
        "colab": {
          "base_uri": "https://localhost:8080/"
        },
        "id": "GAuIhUV5SVjo",
        "outputId": "d1c8c3e4-a005-4d7f-ee89-8f32c93f8ae4"
      },
      "outputs": [
        {
          "output_type": "stream",
          "name": "stdout",
          "text": [
            "Iteration 1: beta = [-8.26926918  2.4233491 ]\n",
            "Iteration 2: beta = [-6.54358586  0.75914811]\n",
            "\n",
            "Final coefficients: [-6.54358586  0.75914811]\n",
            "Predicted probability for x=5: 0.06020845531854403\n",
            "Classified label: 0\n"
          ]
        }
      ],
      "source": [
        "import numpy as np\n",
        "\n",
        "# Data\n",
        "X = np.array([2, 4, 6])\n",
        "y = np.array([0, 0, 1])\n",
        "\n",
        "# Add intercept (column of 1s)\n",
        "X_design = np.column_stack((np.ones_like(X), X))  # shape (3,2)\n",
        "\n",
        "# Initial beta values\n",
        "beta = np.array([0.5, -0.5])  # [beta0, beta1]\n",
        "\n",
        "# Sigmoid function\n",
        "def sigmoid(z):\n",
        "    return 1 / (1 + np.exp(-z))\n",
        "\n",
        "# Newton-Raphson iterations\n",
        "for it in range(2):\n",
        "    # Linear predictor\n",
        "    z = X_design @ beta\n",
        "    # Predicted probabilities\n",
        "    p = sigmoid(z)\n",
        "\n",
        "    # Gradient: X^T (y - p)\n",
        "    gradient = X_design.T @ (y - p)\n",
        "\n",
        "    # Weight matrix W = diag(p*(1-p))\n",
        "    W = np.diag(p * (1 - p))\n",
        "\n",
        "    # Hessian: -X^T W X\n",
        "    H = -X_design.T @ W @ X_design\n",
        "\n",
        "    # Update rule: beta_new = beta - H^-1 * gradient\n",
        "    beta = beta - np.linalg.inv(H) @ gradient\n",
        "\n",
        "    print(f\"Iteration {it+1}: beta = {beta}\")\n",
        "\n",
        "# Final model coefficients\n",
        "beta0, beta1 = beta\n",
        "\n",
        "# Test sample x=5\n",
        "x_test = np.array([1, 5])  # include intercept\n",
        "prob = sigmoid(x_test @ beta)\n",
        "label = 1 if prob >= 0.5 else 0\n",
        "\n",
        "print(\"\\nFinal coefficients:\", beta)\n",
        "print(\"Predicted probability for x=5:\", prob)\n",
        "print(\"Classified label:\", label)\n"
      ]
    },
    {
      "cell_type": "markdown",
      "source": [
        "Given the data below, perform the following\n",
        "\n",
        "![image.png](data:image/png;base64,iVBORw0KGgoAAAANSUhEUgAAAekAAAIBCAYAAABtMUflAAAAAXNSR0IArs4c6QAAAARnQU1BAACxjwv8YQUAAAAJcEhZcwAADsMAAA7DAcdvqGQAACivSURBVHhe7d3Bbxt3fv//F3/3bUMypyDwgZSBBNuFDC3lFgkZwAtYYpVF4aIpSO0GiwA26oheBEjqlbJSij3EkS3WzUFoREtIAB+6q2E3C+TQOKIMWEA1KNqYCUoggQvEHCxyyMkTxto/gN/DTxpwPrJlrryiPpp5PgBhP/N5fyYX7dsvzYfDmUS32+0KAABY5/8zJwAAgB0IaQAALEVIAwBgKUIaAABLEdIAAFiKkAYAwFKENAAAliKkAQCwFCENAIClCGkAACxFSAMAYKnEfp7dnUgkzCkAAPBHelQEcyUNAIClHutKeh+nAhgAehSwW789ypU0AACWIqQBALAUIQ0AgKUIaQAALEVIAwBgKUIaAABLEdIAAFiKkAYAwFKENAAAliKkAQCwFCENAIClCGkAACxFSAMAYClCGgAASxHSAABYipCOuEQi8dCfHcVicVetWq2G/jsADobrurv6b+enWCyayx/Yr67rmssQEYR0xHW7XV27ds2c1r1794Lx2tqapqamJEm5XE6bm5uanp7uWQ3goOTzeW1ubiqZTIbmNzc3tba2FprTdr9+/PHHkqRkMqnNzU3l83lzGSKCkI6B8+fPa3V1NTR3//790LHnecpms1pbW6PhgQHL5/Pa2NjYNfcwf/ZnfyZJWlpa2nMdjj5COibK5bJmZ2eD40qlEoyXl5f16aef6ne/+53S6XQwD2BwhoeHgx0tSXIcJ1Tv9cknnyiZTOr06dNmCRGT6Ha7XXPyUXY+z9zHqThEvu/rL//yL9VutyVJ165d01/91V/pxIkTWl1dVblcNk/BEUWPHk07O1qSND4+/sDtbklKpVKamprSO++8Y5ZwRPTbo1xJx0g6ndb169eD41/+8pf6u7/7O01NTT0yoMvlslKplDzPM0sA/kQymUxwNd1oNB54Q5jjOOp0Ojp79qxZok8jiJCOmXw+r4WFBUlSp9PRt99+q7fffttcBuCQXLx4MRhfunQpVJOk69eva3x8XJlMxiwhgtjujqnR0VE1m01JYqs7gujRo61SqahWq0nbd3nv3BzWarX4eCoi+u1RrqRjyPO84HNpbf+DwPYYYI+f/OQnwbj3anp5eVnJZJKAjhFCOoZKpZLGxsZC2969d3sDOFz5fF7j4+NSz2fTvu/LcZzQHeCIPkI6Zubm5tTpdPTee+9penpauVxO2v6HYHl52VwubT8RqVKpKJVKmSUAB+Stt94KxpcuXdLNmzcfesOY6NPI4jPpGLlx44ZefvllbWxsaHh4WNr+jOvUqVPqdDpKJpOhmra3xnO5nDqdjsTv/MigR6OhWCyq0WhI208XO3ny5AO/lkWfHj399ihX0jHheZ5efvllXb58ORTCw8PDunz5srS97X3u3Lmes/7/r4R8++23wdYbgMHpvZrudDp67bXXQvUd9Gl0EdIx4Pu+SqWSTp48qfPnz5tlnT9/PniAQrPZ1NzcnLkEwCHo/Ww6m81qYmLCXIKII6QjzvM8FYtFNZtN+b4v3/fNJfJ9X0NDQ8Hx/Py8qtXqA9cCGKxXXnlFkvQP//APZgkxQEhHXDabDb4P3Ww29eSTT5pL9OSTTwafe+2YmZl54FoAh+Oll14ypxADhHTEdbvdXT8ms77XWgCDdf36dZVKJZ4wFlOENB6pd5v8Qc8SBnAwPM9To9HQz372M7O0C30aTXwFC4+08/vesbCwoOnp6dAc7EKPRkOlUtH6+rru3r1rlnahT4+WfnuUkAYiiB49elqtlv7whz/o2WefVTqd5jndEddvjxLSQATRo0eL4zianJwMjsfHx9VoNJTL5XT79u3QWkRDvz3KZ9IAcMju378fOt4J6Ac9XQzxQkgDwCF76aWXQg8tWVhY0NramtLptLkUMcN2NxBB9Chgt357lCtpAAAsRUgDAGApQhoAAEsR0gAAWIqQBgDAUoQ0AACWIqQBALAUIQ0AgKUIaQAALEVIAwBgKUIaAABLPdazuwEAwP49KoK5kgYAwFKPdSW9j1MBDAA9Ctit3x7lShoAAEsR0gAAWIqQBgDAUoQ0AACWIqQBALAUIQ0AgKUIaQAALEVIAwBgKUIaAABLEdIAAFiKkAYAwFKENAAAliKkAQCwFCENSZLjOBoaGpLrumYJwCFzHEejo6NKJBJKJBIql8v0akwQ0jHm+76q1apSqZQmJyfVbrfNJQAOke/7KhaLmpyc1Llz59TtdnXv3j2lUikVCgU5jmOegojhfdIxtby8rI2NDX333XdqNBrB/ObmpvL5fGgtjh56NBpGR0fVbDZ17do1nT9/PlQrFotqNBpaXV1VuVwO1WC/fnuUkIbK5bLq9bpESEcGPXr0VatVzczMKJvN6u7du2ZZN27c0IsvvqhkMqlms6lMJmMugcX67VG2u6GRkRFzCsAh8jxPMzMzkqRSqWSWJUkTExNKJpPqdDq6evWqWUZEENIAYJkPP/wwGD///POhWq+xsTFJUq1Wk+d5ZhkRQEgDgGVWVlaC8TPPPBOq9erdBbt582aohmggpAHAIp7nhb5psddnzceOHQvGGxsboRqigZAGAIt88803wTiZTIZqpqeffjoY8xXKaCKkAcAiX375ZTA+efJkqLaXZrNpTiECCGkAsMj9+/fNKcQYIQ0AgKUIaQAALEVIAwBgKUIaACzy3HPPmVMPtbW1FYzHx8dDNUQDIQ0AFnnqqaeCce/Lbx7kiy++CMZ7fZ8aRxchDQAWyWQyymazwbHv+6F6r947wV944YVQDdFASAOAZXpfqnHnzp1Qrddnn30WjE+fPh2qIRoIaQCwzNmzZ4PxJ598Eqr12tkOn5qaUjqdNsuIAEIaACyTyWQ0OzsrScG73k03btyQth8devHiRbOMiCCkEdJ7tyiAw/PGG28ol8up3W7LcRyzrF/96leSpKWlJW4aizBCOuZarVbotXiLi4u8lxawQDqdVr1eVy6XU6VSCYLa8zwVi0U1m02trq6qXC6bpyJCEt1ut2tOPkoikZAk7eNUWMJ1XRUKBXM6hN/v0UWPRofv+/rggw+0srKidrutZDKpcrmsixcvcgV9hPXbo4Q0EEH0KGC3fnuU7W4AACxFSAMAYClCGgAASxHSAABYipAGAMBShDQAAJYipAEAsBQhDQCApQhpAAAsRUgDAGApQhoAAEs91rO7AQDA/j0qgrmSBgDAUo91Jb2PUwEMAD0K2K3fHuVKGgAASxHSAABYipAGAMBShDQAAJYipAEAsBQhDQCApQhpAAAsRUgDAGApQjqmfN9XtVrV6OioEomEEomEhoaGVKlU5HmeuRzAIXIcJ9Sr5XJZruuayxBBhHQMtVotHT9+XDMzM2o2m8F8u91WrVZTLpeT4zihcwAMnu/7KhaLmpyc1Llz59TtdnXv3j2lUikVCgX6NAZ4LGjMeJ6nXC6nTqejXC6nv//7v5ckff7556rX66G1H3/8sSYmJkJzOBro0WgYHR1Vs9nUtWvXdP78+VCtWCyq0WhodXVV5XI5VIP9+u1RQjpmKpWK1tfXdf36deXz+VCt1Wrp1KlT6nQ6kqRsNqu7d++G1uBooEePvmq1qpmZmYf24Y0bN/Tiiy8qmUyq2Wwqk8mYS2CxfnuU7e4Y8X1fjuNofX19V0BL0vDwsDY2NoLjdrutGzduhNYAOHie52lmZkaSVCqVzLIkaWJiQslkUp1OR1evXjXLiAhCOkbu3LmjN998c8+/uIeHh0P/KHzxxRehOoCD9+GHHwbj559/PlTrNTY2Jkmq1Wrc8BlRhHSM5PN5TU9Pm9O7jIyMmFMABmhlZSUYP/PMM6Far95evXnzZqiGaCCksafnnnvOnAJwgDzPU7vdDo732vk6duxYMO79qArRQUjjoZLJpJ599llzGsAB+uabb4JxMpkM1UxPP/10MO4NdkQHIY1dPv/8c0lSuVxWOp02ywAO0JdffhmMT548GartpfeZB4gOQhohvu+rXq8rmUzq4sWLZhnAAbt//745hRgjpBHywQcfSNIj7wIHABw8QhoB3/d15coVjY+P93UXOADgYBHSCFy4cEGS9Otf/9osAQAOASENSdLy8rLW19e1sbHBzWLAIfpjvva4tbUVjMfHx0M1RAMhDbVaLb366qv6t3/7Nw0PD5tlAAP01FNPBeNGoxGqmXqfCMg9JNFESMfczks1VldXeeMVYIFMJqNsNhsc+74fqvfqvRP8hRdeCNUQDYR0jHmep1OnTmlpaYlX3QEW6X1+/p07d0K1Xp999lkwPn36dKiGaCCkY8r3fZVKJV2+fJmABixz9uzZYPzJJ5+Ear12tsOnpqa4lySiCOkY8n1fxWJRo6Oju14kb3JdV3Nzc+Y0gAOUyWQ0OzsrSarX62ZZ2n6ftLYfHcqDh6Ir0X3UG6cfoN+XVcM+rVZL586dU7vd1ptvvmmWQ37729+q2Wxqc3Pzge+fhr3o0aNv54/pZrOp1dXVXTteo6OjD63Bfv32KCEdIzs3iXU6HbP0UNlsVnfv3jWnYTl6NBo8z1OpVFK73Q7uHfE8T5VKRY1Gg4A+wvrtUba7Y+SPDWhJ+sUvfmFOARiQTCajtbU1vfnmm3rrrbeUSCSUy+WUyWTUbrcJ6BjgShqIIHoUsFu/PcqVNAAAliKkAQCwFCENAIClCGkAACxFSAMAYClCGgAASz3WV7AAAMD+9BO/+w7pfZwGYEDoUcBu/fYo290AAFiKkAYAwFKENAAAliKkAQCwFCENAIClCGkAACxFSAMAYClCGgAASxHSAABYipCOsWq1qtHRUSUSCSUSCQ0NDalarcr3fXMpgEPiOE6oT8vlslzXNZchogjpGPJ9X6Ojo5qZmVGz2Qzm2+22ZmZmVCwWCWrgkPm+r2KxqMnJSZ07d07dblf37t1TKpVSoVCQ4zjmKYggnt0dQ8ViUXfv3tUvfvELff/735ck/eY3v1GtVgvWjI+Pa21trecsHCX06NE3OjqqZrOpa9eu6fz586FasVhUo9HQ6uqqyuVyqIajod8eJaRjxnEcffTRR3rvvfeUTqd31SYnJ4PjdrutTCYTWoOjgR492qrVqmZmZpTNZnX37l2zrBs3bujFF19UMplUs9mkT4+gfnuU7e6Y+c///M8HBrQklctllUql4Pibb74J1QEcPM/zNDMzI0mhfuw1MTGhZDKpTqejq1evmmVECCEdM0tLSw8M6B0jIyPmFIAB+vDDD4Px888/H6r1GhsbkyTVajV5nmeWERGENB4om80qn8+b0wAO2MrKSjB+5plnQrVevX9Q37x5M1RDdBDSCPn8888lSYuLi2YJwAHzPE/tdjs43uuz5mPHjgXjjY2NUA3RQUgj0Gq1VK/XNTU1pYmJCbMM4ID13geSTCZDNdPTTz8djHuDHdFCSEPaDuhTp06pVCppaWnJLAMYgC+//DIYnzx5MlTbS+/zDhAthHTMua6rSqWiEydOqNPpqF6va25ujoeZAIfg/v375hRijpCOsWq1qkKhEHqIiSTNz8/z1DEAsAAhHWPT09Pqdrv63//9Xy0sLIQ+A2s2m/qnf/qn0HoAwGAR0tDw8LCmp6f11VdfhR6ewPcvAeBwEdIIpNNpOY6jbDYbzP3f//1faA2Ag/Pcc8+ZUw+1tbUVjMfHx0M1RAchjV0uXboUjL/44otQDcDBeeqpp4Jxo9EI1Uy9vbnX96lxtBHS2KX3qx9/8Rd/EaoBODiZTCa0k7XXzZu9d4K/8MILoRqig5DGLr1/le/1WEIAf3q994XcuXMnVOv12WefBePTp0+HaogOQhq7tFotaftzLrbRgME6e/ZsMP7kk09CtV472+FTU1N7vjQHRxshjV0uX74sSXrrrbfMEoADlslkNDs7K0mq1+tmWdp+n7S2Hx168eJFs4wIIaRjxPM8pVIpJRIJVSqVB369qlKpqF6va3V1lbdgAYfkjTfeUC6XU7vdluM4Zlm/+tWvpO1Xz7LbFW2JbrfbNScfJZFIaB+n4ZC5rqtCoRCaK5VKGhkZ0f3794O/2hcXF3nBxhFHjx59nuepVCqp3W5raWlJ5XJZnuepUqmo0WhodXVV5XLZPA1HRL89SkjHzPLyst5///3QA/mz2axyuZzOnDlD00cEPRoNvu/rgw8+0MrKitrttpLJpMrlsi5evMgV9BHXb48S0kAE0aOA3frtUT6TBgDAUoQ0AACWIqQBALAUIQ0AgKUIaQAALEVIAwBgKUIaAABLEdIAAFhq3w8zAQAA+9dP/O47pPdxGoABoUcBu/Xbo2x3AwBgKUIaAABLEdIAAFiKkAYAwFKENAAAliKkAQCwFCENAIClCGkAACxFSAMAYClCGiGtVkupVIpHvwKWcRxHQ0NDcl3XLCHCCGmEnDt3Tp1Ox5wGcAh831e1WlUqldLk5KTa7ba5BBFHSCNQrVbVbDbNaQCHYHl5WRcuXNCtW7f4wznGeMEGpO1t7hMnTiiZTAb/IPA7Prro0Wgpl8uq1+uSpM3NTeXzeXMJjph+e5QraUjb29xTU1M6efKkWQJwyEZGRswpxAQhDc3NzanT6ejtt982SwCAQ0RIx5zrupqfn9f169eVTqfNMgDgEBHSMeb7vl555RXNzs7yGRcAWIiQjrF3331XyWRSb7zxhlkCAFiAkI6pGzduaH5+Xu+//z7b3ABgKUI6hnzf18svv6yFhQUNDw+bZQCAJQjpGLpw4YKy2aymp6fNEgDAIoR0zNy4cUPr6+t6//33zRIAwDKEdIzsbHNfvnyZbW4AOAII6Rj56U9/qpMnT+r8+fNmCQBgIUI6JlzXVaPRUKPRUCKReOhPo9EIzumdBwAMHiENAICleAtWTPi+rzt37pjTu7z++uvB6yo3NzeDeZ5IdrTQo9FSrVY1MzMj8RasyOi3RwlphBSLxWDLm9/x0UWPRgshHT399ijb3QAAWIqQBoAjZGtry5xChBHSAGCxVqullZWV4HhxcVGe54XWILoIaQCwkOu6SiQSOnHihNrtdjDfaDSUzWb5amRMcOMYEEH0KGC3fnuUK2kAACxFSAMAYClCGgAASxHSAABYipAGAMBShDQAAJYipAEAsNS+vycNAAD2r5/4fayQ3sepAAaAHgXs1m+Pst0NAIClCGkAACxFSAMAYClCGgAASxHSAABYipAGAMBShDQAAJYipAEAsBQhDQCApQjpmHNdV4lE4qE/xWLRPAXAIXEcR0NDQ3Jd1ywhogjpmLt06ZI5FfLaa6+ZUwAGyPd9VatVpVIpTU5Oqt1um0sQYTy7O8Zc11WhUND4+LhZkiQ98cQTchzHnMYRQI9Gw/LysjY2NvTdd9+p0WgE85ubm8rn86G1OFr67VFCOsaKxaIymYyWlpbMEo44ejR6yuWy6vW6REhHQr89ynZ3TLmuq0ajoYsXL5olABYaGRkxpxADhHRMXbp0SaVSSZlMxiwBACxBSMfQzlV0vV7X6Oio5ubmuFsUACxESMdQ7x3dzWZT8/PzKhQKfLUDACxDSMeM53mSpGw2a5bUbrdVKBQ0NzdnlgAAh4CQjplMJqO1tTXdvXtX3W5Xm5ubmpqaUjKZDNbMz8+rUqmEzgMADB4hHXP5fF5LS0tqNpsqlUrBfK1W0/LycmgtAGCwCGlI21fYjuNoamoqmPvlL38p3/dD6wAAg0NII2RpaSl4Almn09HNmzfNJQCAASGksUvvE8i+/vrrUA0AMDiENHbJZDLB1fStW7fMMgBgQAhpPNCPfvSj0P8CAAaPkMaejh07Zk4BAAaEkMYDff7555Kk06dPmyUAwIAQ0tjF933V63XNzs4qnU6bZQDAgBDSMeO6rpaXl/f8/vOFCxeUy+X0xhtvmCUAwAAR0jFTKBT06quv6vjx43IcJ1TzPE/FYlHtdlv1ep2raMBSW1tb5hQiipCOmZ0Xa3Q6HU1OTiqVSqlYLGp0dFTZbDZ4tjfvmQbs0Wq1tLKyEhwvLi4GL8tBtCW63W7XnHyURCIhSdrHqThknudpdnZW6+vr6nQ6kqRcLqexsTGdPXuWcI4IejQaXNdVoVAwp0P4HR9N/fYoIQ1EED0K2K3fHmW7GwAASxHSAABYipAGAMBShDQAAJYipAEAsBQhDQCApQhpAAAsRUgDAGCpx3qYCQAA2L9HRTBX0gAAWOqxrqT3cSqAAaBHAbv126NcSQMAYClCGgAASxHSAABYipAGAMBShDQAAJYipAEAsBQhDQCApQhpAAAsRUgDAGApQhohrVZLc3NzKhaLSiQSSiQSqlar5jIAh8BxHA0NDcl1XbOEiCKkIW2Hc7FY1IkTJzQ/P69MJqOPP/5Y7XZb09PT5nIAA+L7vqrVqlKplCYnJ9Vut80liDCe3Q0tLy/r1VdflSSVSqUgpHF00aPRsLy8rI2NDX333XdqNBrB/ObmpvL5fGgtjpZ+e5SQjrlKpaJarSZJmp2d1TvvvGMuwRFEj0ZPuVxWvV6XCOlI6LdH2e6Osd6AnpqaIqABi42MjJhTiAFCOqYcxwkCenx8XEtLS+YSAMAhI6RjyPM8VSoVSVIymSSgAcBShHQMVSoVdTodaXubm5vEAMBOhHTMeJ4Xukv07NmzoToAwB6EdMx88MEHwTiXy+nP//zPtby8HHp4ydDQkKrVqnzfD50LABgsQjpmdr7CIUnpdFrHjx/XxsaGfvSjH2l2dlbJZFLtdlszMzMqFosENQAcIkI6RnzfDz2t6IknnlCz2ZTjOJqentY777yjr776SrlcTpLUbDZVLBZ7/gsAgEEipGPkzp07oeP33ntv101j6XQ6dLW9E+IAgMEjpGMsnU6bU5KkTCajqamp4Pijjz4K1QEAg0FIx1Q2mzWnQn784x8H4/X19VANADAYhHRMJZNJcyrkmWeeCcY736kGAAwWIR0jvQ/kbzaboZqp97PqR111AwAOBiEdM6VSKRi3Wq1Q7WHGxsbMKQDAABDSMXPmzJlg/N///d+hWi/P84LxT37yk1ANADAYhHTMlMvl4HvQ//zP/2yWA59++qm0/YYs3lsLAIeDkI6her0ePFmsWq2aZfm+r0qlwhuyAEttbW2ZU4goQjqGMpmMNjY2lEwmNTMzE3pOt+u6KhaLSqVS2tjY2PWwEwCD12q1tLKyEhwvLi6GPpJCdCW63W7XnHyURCIhSdrHqbCI7/t69913Va/Xg8eF5nI5nTt3Ti+99NJDH3YC+9Gj0eC6rgqFgjkdwu/4aOq3RwlpIILoUcBu/fYo290AAFiKkAYAwFKENAAAliKkAQCwFCENAIClCGkAACxFSAMAYKnH+p40AADYv0dFMFfSAABY6rGupPdxKoABoEcBu/Xbo1xJAwBgKUIaAABLEdIAAFiKkAYAwFKENAAAliKkAQCwFCENAIClCGkAACxFSAMAYClCOoaq1aoSiUTfP8Vi0fxPADgEjuNoaGhIruuaJUQUIR1DKysr5tSe/vZv/9acAjAgvu+rWq0qlUppcnJS7XbbXIII49ndMeO6rgqFgiQpl8spnU6bSwKNRkOS1G63lclkzDIsRo9Gw/LysjY2NvTdd98F/ShJm5ubyufzobU4WvrtUUI6ZiqVim7fvq16vb5n8Hqep2w2q1wup9u3b5tlWI4ejZ5yuax6vS4R0pHQb4+y3R0jvu/L8zytra3tGdCSdPPmTUnSuXPnzBKAQzAyMmJOIQYI6Rj5n//5H7311lt7bnHveP/99yVJp0+fNksAgAEhpGNkYmKiry0yz/PUbDaVy+UeecUNADg4hDR2YasbAOxASGMXtroBwA6ENELY6gYAexDSCGGrGwDsQUgjhK1uALAHIY0AW90AYBdCGgG2ugHALoQ0Amx1A4BdCGlIPVvdpVKJrW4AsAQhDalnq/vMmTNmCQBwSAhpSGx1A4CVCGmEtrr7efkGAGAwCGmw1Q0AliKkwVY3cMRsbW2ZU4goQjrm2OoG7NdqtbSyshIcLy4uyvO80BpEEyEdc2x1A/ZyXVeJREInTpxQu90O5huNhrLZrBKJRGg9oifR7Xa75uSj7PwfYx+nAhgAehSwW789ypU0AACWIqQBALAUIQ0AgKUIaQAALEVIAwBgKUIaAABLEdIAAFiKkAYAwFKP9TATAACwf4+KYK6kAQCw1GNdSe/jVAADQI8Cduu3R7mSBgDAUoQ0AACWIqQBALAUIQ0AgKUIaQAALEVIAwBgKUIaAABLEdIAAFiKkAYAwFKEdIy5rqtyuaxUKqVEIqFEIqHR0VFVq1X5vm8uB3DIHMfR0NCQXNc1S4goQjqmKpWKCoWCJGljY0Pdblfdblf/+I//qCtXruj48eNqtVrmaQAGzPd9VatVpVIpTU5Oqt1um0sQYYR0DM3NzalWq2l2dlaO42h4eDiolctlbWxsqNPp6NSpU/I8L3QugMFZXl7WhQsXdOvWLXU6HbOMGOAFGzHjeZ6y2awk6d69e0qn0+YSaTus6/W6pqamtLS0ZJZhOXo0enZ6UpI2NzeVz+fNJThC+u1RrqRj5tNPPw3GDwtoSRoZGZG2Qx3A4dvpScQLIR0zX3/9dTDe6+aT3//+95KkJ554wiwBAAaEkI6Z5557LhhfunQpVOu1vr4uSTpz5oxZAgAMCCEdM/l8PvhMutFoqFKpmEu0vLysdrut8fFxlctlswwAGBBCOoYWFxeDca1W0+joaPC9aMdx9Oqrr6pUKunXv/51z1kAgEEjpGNoYmJCq6urwXGz2dTx48dVrVY1OTmphYUFOY6z541lAICDR0jHVLlcDgV1p9PRzMyMFhYWND09HVoLADgchHSMlctlLSwshOZmZmYe+Dk1AGDwCOkYq1QqunLlij7++GPlcrlgvlarqVgs8vxuADhkhHRMVSoV1Wo1bWxsaGJiQrdv39bU1FRQbzQa+ulPfxo6BwAwWIR0DO08u3thYSH03O6lpaVdQV2tVoNjAMBgEdIx02q1ND8/L0l66aWXzPKuoL5y5UqoDgAYHEI6Zv793/9dkpRMJpXJZMyytB3U4+Pj0vZd33s9PhQAcHAI6Zj57LPPJEknT540SyHmXd8AgMEjpGPmhz/8obT9efNeej+r/t73vheqAQAGg5COmb/+678OxnttY7daLUlSNpsNBTYAYHAI6ZjJ5/MqlUqSpNdff/2h34W+fPmyJOn69etmCcAh29raMqcQUYR0DL333nsaHx9Xs9lUsVjUjRs3glqr1VK5XNb6+rpWV1eVz+dD5wIYvFarpZWVleB4cXFRnueF1iCaEt1ut2tOPkoikZAk7eNUWMRxHH300UdaX19Xp9ORJOVyOY2Njens2bMPvfsb9qNHo8F1XRUKBXM6hN/x0dRvjxLSQATRo4Dd+u1RtrsBALAUIQ0AgKUIaQAALEVIAwBgKUIaAABLEdIAAFiKkAYAwFKP9T1pAACwf4+KYK6kAQCw1GNdSe/jVAADQI8Cduu3R7mSBgDAUoQ0AACWIqQBALAUIQ0AgKUIaQAALEVIAwBgKUIaAABLEdIAAFiKkAYAwFKEdIy5rqtyuaxUKqVEIqFEIqFyuSzXdc2lACzgOI6Ghobo0RghpGOqUqmoUChoZGREX331lbrdrjY3N9Vut1UoFFSpVMxTABwC3/dVrVaVSqU0OTmpdrttLkGEEdIxVKlUVKvVdO3aNU1PTyudTkuS8vm81tbWlM1mVavVNDc3Z54KYICWl5d14cIF3bp1S51OxywjBnjBRsy4rqtCoaBkMqlvv/3WLEvbW2qTk5OSpM3NTeXzeXMJLEePRk+5XFa9Xpfoy0jot0e5ko6Z119/XZI0NjZmlgLlclnJZFKS9Morr5hlAIdgZGTEnEIMENIx4nmems2m1EfD74R4u91Wq9UyywCAASCkY+Sbb74xpx6qN8QbjUaoBgAYDEI6Rv7rv/4rGP/+978P1UzHjh0Lxrdu3QrVAACDQUjHSG/w3r59O1QDANiHkI6RZ599Nhg3m015nheq9/r666/NKQDAgBHSMTI8PKxsNhscX716NVQHANiFkI6ZxcXFYFyr1eQ4Tqiu7e9SX7lyJTj+4Q9/GKoDAAaDkI6ZiYkJra6uBseTk5MqFouqVquam5vT0NCQ/vVf/zX0dKMf/OAHwRgAMDiEdAyVy2Vtbm6qVCopmUyq0WhoZWVFnU5H169f189+9rPQ+pMnT4aOAQCDQUjHVD6fl+M4+vbbb9XtdnX37l0tLS0pn8/rP/7jP4J1pVJJmUwmdC4AYDAIaYR4nqdarRYc//znPw/VAQCDQ0gjpPeO76mpKR7iDwCHiJBGwHXd4Co6m83q7bffNpcAAAaIkIa0/WL5v/mbv5EkJZNJ/e53vwveMw0AOByENOT7vorFojqdjpLJpDY2NjQ8PGwuAwAMGCEdc67r6vjx42o2m8rlcmo2mwQ0YLmtrS1zChFFSMeQ53lyHEfFYlGFQkGStLCwoNu3b/N1K8BCrVZLKysrwfHi4uKez95HdCS63W7XnHyURCIhSdrHqThkO7+7ZDKpsbExnTlzRqdPn+bz54ihR6PBdd3gD+mH4Xd8NPXbo4Q0EEH0KGC3fnuU7W4AACxFSAMAYClCGgAASxHSAABYipAGAMBShDQAAJYipAEAsBQhDQCApR7rYSYAAGD/HhXBXEkDAGCpx7qS3sepAAaAHgXs1m+PciUNAIClCGkAACxFSAMAYClCGgAASxHSAABYipAGAMBShDQAAJYipAEAsBQhDQCApQjpGPA8T5VKRcVi0Sw9kuu6KpfLSiQSSiQSGh0dleM45jIAA+A4joaGhuS6rllCRBHSEea6rorForLZrGq1mll+pLm5ORUKBaVSKd27d0/dblfnzp3T5OSkKpWKuRzAAfB9X9VqValUSpOTk2q32+YSRBghHUE7V86XLl3S3bt3zXJf5ubmND8/r1KppKWlJaXTaUnS+fPntbCwoFqtRlADB2x5eVkXLlzQrVu31Ol0zDJigBdsRFyr1dKJEyckSePj41pbWzOX7OK6rgqFgiSp3W4rk8mE6r7v68knn5Qkffzxx5qYmAjVcfjo0egpl8uq1+uSpM3NTeXzeXMJjpB+e5Qr6YgbHh42px7plVdekSTlcrldAS1J6XRapVJJkvTaa6+ZZQAHYGRkxJxCDBDSCHFdN/jMa2xszCwHTp06JW1faXMjGQAcDEIaIb/5zW+C8Q9+8INQrdf3v//9YPzRRx+FagCAPw1CGiHr6+vB+Omnnw7Vej311FPBuPccAMCfDiGNkN6vd3zve98L1Xr1flbd6XTk+36oDgB4fIQ0Aq1WK3T8x9x0dufOHXMKAPCYCGkE/vCHP5hTAIBDREgDAGApQhoAAEsR0gAAWIqQRuCPecygeTf3H3MuAKA/hDRCstlsMN7rdXi9d3P3ngMA+NMhpBHS+yjQra2tUK1Xb22vx4cCAPaPkEbIj3/842D8xRdfhGq9emu95wAA/nQIaYRMTEwE29e//e1vzXLg1q1b0vZWN6+qBICDQUhjl8XFRUlSs9mU53lmWb7vq9FoSD1rAQB/eoR0jJh3ZD/MxMSEpqamJElXr141y3r33XclSVNTU1xFA4dgr/tFEC2EdIT5vq9qtRocN5vNvt/9vLS0pFKppFqtpmq1Kt/35fu+5ubmND8/r6mpKS0tLZmnATgArVZLKysrwfHi4uIDd7kQPYlut9s1Jx8lkUhIkvZxKgakWCwGW9IPsrCwoOnpaXN6F8dx9C//8i9qNpuSpFKppJ///Od8L9py9Gg0uK6rQqFgTofwOz6a+u1RQhqIIHoUsFu/Pcp2NwAAliKkAQCwFCENAIClCGkAACxFSAMAYClCGgAASxHSAABYipAGAMBSj/UwEwAAsH+PimCupAEAsNS+rqQBAMDB40oaAABLEdIAAFiKkAYAwFKENAAAliKkAQCwFCENAIClCGkAACz1/wDN6GyvCgvBWwAAAABJRU5ErkJggg==)\n",
        "\n",
        "a) Perform logistic regression-based classification using the Newton-Raphson method. Assume initial beta values as β₀⁽⁰⁾ = 1, β₁⁽⁰⁾ = 0.5. Calculate and update the beta values for three iterations, and provide the final equation for the fitted model.\n",
        "\n",
        " b) Test and classify input sample x= 2.5 and x= 3.5 using the final fitted model.\n",
        "(Note: Perform hand calculation and calculate all the parameters mentioned for questions Q 2 a) and Q 2 b) given above. Upload the image of your hand calculations.)\n",
        "\n",
        "c) Write a Python code to perform logistic regression using the Newton–Raphson method (as given in Question 2a). The code should calculate and display the beta values for three iterations (consider the initial beta values given in Q2 a). Test and classify input samples x= 2.5 and x= 3.5 using the final fitted model.\n",
        "(Note: The Scikit-learn library does not allow initializing beta values manually, so implement the code using basic matrix operations and functions. Ensure that the code output matches the hand-calculated answers.)\n"
      ],
      "metadata": {
        "id": "QkQyjTMDUOac"
      }
    },
    {
      "cell_type": "code",
      "source": [
        "import numpy as np\n",
        "\n",
        "# Data\n",
        "X = np.array([1,2,3,4,5,6,7,8,9,10])\n",
        "y = np.array([0,0,0,1,1,1,1,1,1,1])\n",
        "\n",
        "# Add intercept (column of 1s)\n",
        "X_design = np.column_stack((np.ones_like(X), X))  # shape (n,2)\n",
        "\n",
        "# Initial beta values (as per Q2a)\n",
        "beta = np.array([1.0, 0.5])  # [beta0, beta1]\n",
        "\n",
        "# Sigmoid function\n",
        "def sigmoid(z):\n",
        "    return 1 / (1 + np.exp(-z))\n",
        "\n",
        "# Newton-Raphson iterations\n",
        "for it in range(3):\n",
        "    # Linear predictor\n",
        "    z = X_design @ beta\n",
        "    # Predicted probabilities\n",
        "    p = sigmoid(z)\n",
        "\n",
        "    # Gradient: X^T (y - p)\n",
        "    gradient = X_design.T @ (y - p)\n",
        "\n",
        "    # Weight matrix W = diag(p*(1-p))\n",
        "    W = np.diag(p * (1 - p))\n",
        "\n",
        "    # Hessian: -X^T W X\n",
        "    H = -X_design.T @ W @ X_design\n",
        "\n",
        "    # Update rule: beta_new = beta - H^-1 * gradient\n",
        "    beta = beta - np.linalg.inv(H) @ gradient\n",
        "\n",
        "    print(f\"Iteration {it+1}: beta = {beta}\")\n",
        "\n",
        "# Final model coefficients\n",
        "beta0, beta1 = beta\n",
        "\n",
        "# Test samples\n",
        "for x_test_val in [2.5, 3.5]:\n",
        "    x_test = np.array([1, x_test_val])  # include intercept\n",
        "    prob = sigmoid(x_test @ beta)\n",
        "    label = 1 if prob >= 0.5 else 0\n",
        "    print(f\"\\nInput x={x_test_val} -> Predicted probability: {prob:.4f}, Classified label: {label}\")\n",
        "\n",
        "print(\"\\nFinal coefficients:\", beta)\n"
      ],
      "metadata": {
        "colab": {
          "base_uri": "https://localhost:8080/"
        },
        "id": "4M1QrPsfUSZr",
        "outputId": "569ef8b1-7825-4ffd-f52f-35881ec91ac4"
      },
      "execution_count": 2,
      "outputs": [
        {
          "output_type": "stream",
          "name": "stdout",
          "text": [
            "Iteration 1: beta = [-8.19548258  1.7941722 ]\n",
            "Iteration 2: beta = [-6.09213563  1.75380469]\n",
            "Iteration 3: beta = [-9.58539332  2.74248851]\n",
            "\n",
            "Input x=2.5 -> Predicted probability: 0.0613, Classified label: 0\n",
            "\n",
            "Input x=3.5 -> Predicted probability: 0.5033, Classified label: 1\n",
            "\n",
            "Final coefficients: [-9.58539332  2.74248851]\n"
          ]
        }
      ]
    }
  ]
}