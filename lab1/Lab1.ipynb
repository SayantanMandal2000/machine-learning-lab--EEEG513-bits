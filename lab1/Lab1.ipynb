{
  "nbformat": 4,
  "nbformat_minor": 0,
  "metadata": {
    "colab": {
      "provenance": []
    },
    "kernelspec": {
      "name": "python3",
      "display_name": "Python 3"
    },
    "language_info": {
      "name": "python"
    }
  },
  "cells": [
    {
      "cell_type": "code",
      "execution_count": null,
      "metadata": {
        "colab": {
          "base_uri": "https://localhost:8080/"
        },
        "id": "gDn8wyoRJE3v",
        "outputId": "d6e2fba9-a01f-4190-c5b3-c00ecdc513b7"
      },
      "outputs": [
        {
          "output_type": "stream",
          "name": "stdout",
          "text": [
            "Hello, Machine Learning world\n"
          ]
        }
      ],
      "source": [
        "print(\"Hello, Machine Learning world\")"
      ]
    },
    {
      "cell_type": "code",
      "source": [
        "print(\"Welcome to Python\")"
      ],
      "metadata": {
        "colab": {
          "base_uri": "https://localhost:8080/"
        },
        "id": "SRnNLj8vJwHM",
        "outputId": "e634aedc-8758-4dec-c4ac-9bb1f3a8820a"
      },
      "execution_count": null,
      "outputs": [
        {
          "output_type": "stream",
          "name": "stdout",
          "text": [
            "Welcome to Python\n"
          ]
        }
      ]
    },
    {
      "cell_type": "code",
      "source": [
        "print(5+3)"
      ],
      "metadata": {
        "colab": {
          "base_uri": "https://localhost:8080/"
        },
        "id": "LDPApLpWJ19e",
        "outputId": "72680a71-f85e-4917-dfe9-2ccba62b508a"
      },
      "execution_count": null,
      "outputs": [
        {
          "output_type": "stream",
          "name": "stdout",
          "text": [
            "8\n"
          ]
        }
      ]
    },
    {
      "cell_type": "code",
      "source": [
        "print(10+2)"
      ],
      "metadata": {
        "colab": {
          "base_uri": "https://localhost:8080/"
        },
        "id": "tEve-608J84s",
        "outputId": "ca2f72ef-b0b6-4a14-c3cb-d2af7c1539aa"
      },
      "execution_count": null,
      "outputs": [
        {
          "output_type": "stream",
          "name": "stdout",
          "text": [
            "12\n"
          ]
        }
      ]
    },
    {
      "cell_type": "code",
      "source": [
        "print(20*3)"
      ],
      "metadata": {
        "colab": {
          "base_uri": "https://localhost:8080/"
        },
        "id": "GtVdC-HOKACv",
        "outputId": "35c6d74c-8ca9-4cc8-c014-af2e7463c6c1"
      },
      "execution_count": null,
      "outputs": [
        {
          "output_type": "stream",
          "name": "stdout",
          "text": [
            "60\n"
          ]
        }
      ]
    },
    {
      "cell_type": "code",
      "source": [
        "print(40/2)"
      ],
      "metadata": {
        "colab": {
          "base_uri": "https://localhost:8080/"
        },
        "id": "sAv5XX_lKDY0",
        "outputId": "ab7e0d73-ac52-417e-abe3-3e5c182721ef"
      },
      "execution_count": null,
      "outputs": [
        {
          "output_type": "stream",
          "name": "stdout",
          "text": [
            "20.0\n"
          ]
        }
      ]
    },
    {
      "cell_type": "code",
      "source": [
        "sum=15+25\n",
        "print(sum)"
      ],
      "metadata": {
        "colab": {
          "base_uri": "https://localhost:8080/"
        },
        "id": "SIgX78XPKQq6",
        "outputId": "29e45ba1-32c3-40b2-aeca-bf34da713310"
      },
      "execution_count": null,
      "outputs": [
        {
          "output_type": "stream",
          "name": "stdout",
          "text": [
            "40\n"
          ]
        }
      ]
    },
    {
      "cell_type": "code",
      "source": [
        "sub=50-20\n",
        "print(sub)"
      ],
      "metadata": {
        "colab": {
          "base_uri": "https://localhost:8080/"
        },
        "id": "KccPteqAKaGO",
        "outputId": "db77c1ed-e7cf-4907-abc6-8f272d977c9b"
      },
      "execution_count": null,
      "outputs": [
        {
          "output_type": "stream",
          "name": "stdout",
          "text": [
            "30\n"
          ]
        }
      ]
    },
    {
      "cell_type": "code",
      "source": [
        "multi=4*7\n",
        "print(multi)"
      ],
      "metadata": {
        "colab": {
          "base_uri": "https://localhost:8080/"
        },
        "id": "Vhhwe91DKepy",
        "outputId": "b59cdc3c-b663-43d2-ec19-6c13b659a78b"
      },
      "execution_count": null,
      "outputs": [
        {
          "output_type": "stream",
          "name": "stdout",
          "text": [
            "28\n"
          ]
        }
      ]
    },
    {
      "cell_type": "code",
      "source": [
        "div=20/4\n",
        "print(div)"
      ],
      "metadata": {
        "colab": {
          "base_uri": "https://localhost:8080/"
        },
        "id": "WxkCF9h0KmVx",
        "outputId": "82c9a319-0c1d-4f8e-aa4b-7aa0ab59934c"
      },
      "execution_count": null,
      "outputs": [
        {
          "output_type": "stream",
          "name": "stdout",
          "text": [
            "5.0\n"
          ]
        }
      ]
    },
    {
      "cell_type": "code",
      "source": [
        "a = \"Machine Learning\"\n",
        "b = 42\n",
        "c = 3.14159\n",
        "d = False\n",
        "\n",
        "print(\"Type of a:\", type(a))\n",
        "print(\"Type of b:\", type(b))\n",
        "print(\"Type of c:\", type(c))\n",
        "print(\"Type of d:\", type(d))\n"
      ],
      "metadata": {
        "colab": {
          "base_uri": "https://localhost:8080/"
        },
        "id": "x6YFtbJnKq9N",
        "outputId": "64a4c73b-c688-4f4e-bfcf-4c0466dd3863"
      },
      "execution_count": null,
      "outputs": [
        {
          "output_type": "stream",
          "name": "stdout",
          "text": [
            "Type of a: <class 'str'>\n",
            "Type of b: <class 'int'>\n",
            "Type of c: <class 'float'>\n",
            "Type of d: <class 'bool'>\n"
          ]
        }
      ]
    },
    {
      "cell_type": "code",
      "source": [
        "Marks = 85\n",
        "\n",
        "if Marks >= 90:\n",
        "    Grade = \"A\"\n",
        "elif Marks > 80:\n",
        "    Grade = \"B\"\n",
        "elif Marks >= 70:\n",
        "    Grade = \"C\"\n",
        "else:\n",
        "    Grade = \"Fail\"\n",
        "\n",
        "print(\"Marks:\", Marks)\n",
        "print(\"Grade:\", Grade)"
      ],
      "metadata": {
        "colab": {
          "base_uri": "https://localhost:8080/"
        },
        "id": "NnLSYXcmLA6I",
        "outputId": "4ea87c01-a277-453b-ee2f-8ec5e5174221"
      },
      "execution_count": null,
      "outputs": [
        {
          "output_type": "stream",
          "name": "stdout",
          "text": [
            "Marks: 85\n",
            "Grade: B\n"
          ]
        }
      ]
    },
    {
      "cell_type": "code",
      "source": [
        "accuracy = 0.95\n",
        "\n",
        "if accuracy > 0.9:\n",
        "    performance = \"Excellent Model Performance\"\n",
        "elif accuracy >= 0.8:\n",
        "    performance = \"Good Model Performance\"\n",
        "elif accuracy > 0.7:\n",
        "    performance = \"Moderate Performance\"\n",
        "else:\n",
        "    performance = \"Needs Improvement\"\n",
        "\n",
        "print(\"Accuracy:\", accuracy)\n",
        "print(\"Performance:\", performance)"
      ],
      "metadata": {
        "colab": {
          "base_uri": "https://localhost:8080/"
        },
        "id": "OYuC6ea5LY9y",
        "outputId": "40b65402-c37a-4277-c243-d0555904fec4"
      },
      "execution_count": null,
      "outputs": [
        {
          "output_type": "stream",
          "name": "stdout",
          "text": [
            "Accuracy: 0.95\n",
            "Performance: Excellent Model Performance\n"
          ]
        }
      ]
    },
    {
      "cell_type": "markdown",
      "source": [
        "Consider the data_points = [ 10, 15, 20, 25, 30], using for loop multiply each data point by a factor of 2 (store it in a variable), print the original data and multiplied data"
      ],
      "metadata": {
        "id": "I2RTztevARIA"
      }
    },
    {
      "cell_type": "code",
      "source": [
        "data_points = [10, 15, 20, 25, 30]\n",
        "\n",
        "multiplied_data = []\n",
        "\n",
        "for value in data_points:\n",
        "    multiplied_data.append(value * 2)\n",
        "\n",
        "print(\"Original Data:\", data_points)\n",
        "print(\"Multiplied Data:\", multiplied_data)"
      ],
      "metadata": {
        "colab": {
          "base_uri": "https://localhost:8080/"
        },
        "id": "-ALoBHaSLsdl",
        "outputId": "33f49dd1-2050-41ca-834f-d0d7928a7f75"
      },
      "execution_count": null,
      "outputs": [
        {
          "output_type": "stream",
          "name": "stdout",
          "text": [
            "Original Data: [10, 15, 20, 25, 30]\n",
            "Multiplied Data: [20, 30, 40, 50, 60]\n"
          ]
        }
      ]
    },
    {
      "cell_type": "markdown",
      "source": [
        ":Consider the data_points = [ 10, 15, 20, 25, 30], using for loop multiply each data point by a factor of 2, print the original data and multiplied data"
      ],
      "metadata": {
        "id": "SVLxI0cGAedx"
      }
    },
    {
      "cell_type": "code",
      "source": [
        "data_points = [10, 15, 20, 25, 30]\n",
        "multiplied_data = [x * 2 for x in data_points]\n",
        "\n",
        "print(\"Original Data:\", data_points)\n",
        "print(\"Multiplied Data:\", multiplied_data)"
      ],
      "metadata": {
        "colab": {
          "base_uri": "https://localhost:8080/"
        },
        "id": "9D4sIGfcL9UJ",
        "outputId": "503214de-99fd-43e5-cdc1-e1144506d965"
      },
      "execution_count": null,
      "outputs": [
        {
          "output_type": "stream",
          "name": "stdout",
          "text": [
            "Original Data: [10, 15, 20, 25, 30]\n",
            "Multiplied Data: [20, 30, 40, 50, 60]\n"
          ]
        }
      ]
    },
    {
      "cell_type": "markdown",
      "source": [
        "Consider the number of epochs = 7 (if you are not familiar with the term epoch do not worry we will encounter it in neural networks), write a python code using while loop to print the epoch numbers as shown below\n",
        "Training Epoch 1\n",
        "Training Epoch 2\n",
        "Training Epoch 3\n"
      ],
      "metadata": {
        "id": "pwusELfhAqq1"
      }
    },
    {
      "cell_type": "code",
      "source": [
        "epoch = 1\n",
        "while epoch <= 7:\n",
        "    print(f\"Training Epoch {epoch}\")\n",
        "    epoch += 1"
      ],
      "metadata": {
        "colab": {
          "base_uri": "https://localhost:8080/"
        },
        "id": "hA85GeYkMlTd",
        "outputId": "7a340f06-795c-4a6c-a1db-4d1fb8a901af"
      },
      "execution_count": null,
      "outputs": [
        {
          "output_type": "stream",
          "name": "stdout",
          "text": [
            "Training Epoch 1\n",
            "Training Epoch 2\n",
            "Training Epoch 3\n",
            "Training Epoch 4\n",
            "Training Epoch 5\n",
            "Training Epoch 6\n",
            "Training Epoch 7\n"
          ]
        }
      ]
    },
    {
      "cell_type": "code",
      "source": [
        "import numpy as np\n",
        "\n",
        "simple_array = np.array([1, 2, 3, 4, 5])\n",
        "\n",
        "print(simple_array)"
      ],
      "metadata": {
        "colab": {
          "base_uri": "https://localhost:8080/"
        },
        "id": "dZfNG2Q1NP-g",
        "outputId": "7f4b3885-6ac2-4b8d-de3f-65319aa4fe3c"
      },
      "execution_count": null,
      "outputs": [
        {
          "output_type": "stream",
          "name": "stdout",
          "text": [
            "[1 2 3 4 5]\n"
          ]
        }
      ]
    },
    {
      "cell_type": "code",
      "source": [
        "matrix = np.array([[1, 2, 3],[4, 5, 6]])\n",
        "\n",
        "print(matrix)"
      ],
      "metadata": {
        "colab": {
          "base_uri": "https://localhost:8080/"
        },
        "id": "gWG9N8HiNZrd",
        "outputId": "5b519cf2-96fc-416f-cd02-1d773b4df6e9"
      },
      "execution_count": null,
      "outputs": [
        {
          "output_type": "stream",
          "name": "stdout",
          "text": [
            "[[1 2 3]\n",
            " [4 5 6]]\n"
          ]
        }
      ]
    },
    {
      "cell_type": "markdown",
      "source": [
        "Double the 1 D data array shown below\n",
        "Simple_array = [1 2 3 4 5]\n",
        "by multiplying it with a factor of 4 and print the original and doubled array results\n"
      ],
      "metadata": {
        "id": "Q556253LA0fk"
      }
    },
    {
      "cell_type": "code",
      "source": [
        "import numpy as np\n",
        "\n",
        "simple_array = np.array([1, 2, 3, 4, 5])\n",
        "multiplied_array = simple_array * 4\n",
        "\n",
        "print(\"Original Array:\", simple_array)\n",
        "print(\"Multiplied Array:\", multiplied_array)"
      ],
      "metadata": {
        "colab": {
          "base_uri": "https://localhost:8080/"
        },
        "id": "De5hnUp2NwOF",
        "outputId": "c89bca55-8b1c-43a0-8dc1-e7dfeacf65a3"
      },
      "execution_count": null,
      "outputs": [
        {
          "output_type": "stream",
          "name": "stdout",
          "text": [
            "Original Array: [1 2 3 4 5]\n",
            "Multiplied Array: [ 4  8 12 16 20]\n"
          ]
        }
      ]
    },
    {
      "cell_type": "markdown",
      "source": [
        "Compute the mean and standard deviation for the\n",
        "Simple_array = [1 2 3 4 5]\n",
        "and print the results\n"
      ],
      "metadata": {
        "id": "Nl8lUP65A2kH"
      }
    },
    {
      "cell_type": "code",
      "source": [
        "import numpy as np\n",
        "\n",
        "simple_array = np.array([1, 2, 3, 4, 5])\n",
        "mean_value = np.mean(simple_array)\n",
        "std_deviation = np.std(simple_array)\n",
        "\n",
        "print(\"Array:\", simple_array)\n",
        "print(\"Mean:\", mean_value)\n",
        "print(\"Standard Deviation:\", std_deviation)"
      ],
      "metadata": {
        "colab": {
          "base_uri": "https://localhost:8080/"
        },
        "id": "7jJ6GCejObuq",
        "outputId": "45e0be42-27dc-4b2f-86e3-ec6c35e47733"
      },
      "execution_count": null,
      "outputs": [
        {
          "output_type": "stream",
          "name": "stdout",
          "text": [
            "Array: [1 2 3 4 5]\n",
            "Mean: 3.0\n",
            "Standard Deviation: 1.4142135623730951\n"
          ]
        }
      ]
    },
    {
      "cell_type": "markdown",
      "source": [
        "Create a 1 D and 2 D array of ones and zeros of 5 elements each"
      ],
      "metadata": {
        "id": "k9Gh6wuPA6om"
      }
    },
    {
      "cell_type": "code",
      "source": [
        "import numpy as np\n",
        "\n",
        "ones_1d = np.ones(5)\n",
        "zeros_1d = np.zeros(5)\n",
        "\n",
        "ones_2d = np.ones((1, 5))\n",
        "zeros_2d = np.zeros((1, 5))\n",
        "\n",
        "print(\"1D Ones Array:\", ones_1d)\n",
        "print(\"1D Zeros Array:\", zeros_1d)\n",
        "print(\"2D Ones Array:\\n\", ones_2d)\n",
        "print(\"2D Zeros Array:\\n\", zeros_2d)"
      ],
      "metadata": {
        "colab": {
          "base_uri": "https://localhost:8080/"
        },
        "id": "f2Y-8pCvO3XH",
        "outputId": "1a36fb0b-0d39-4dca-d15d-b13e4e43fc55"
      },
      "execution_count": null,
      "outputs": [
        {
          "output_type": "stream",
          "name": "stdout",
          "text": [
            "1D Ones Array: [1. 1. 1. 1. 1.]\n",
            "1D Zeros Array: [0. 0. 0. 0. 0.]\n",
            "2D Ones Array:\n",
            " [[1. 1. 1. 1. 1.]]\n",
            "2D Zeros Array:\n",
            " [[0. 0. 0. 0. 0.]]\n"
          ]
        }
      ]
    },
    {
      "cell_type": "code",
      "source": [
        "ones_2d = np.ones((5, 1))\n",
        "zeros_2d = np.zeros((5, 1))\n",
        "\n",
        "print(\"2D Ones Array:\\n\", ones_2d)\n",
        "print(\"2D Zeros Array:\\n\", zeros_2d)"
      ],
      "metadata": {
        "colab": {
          "base_uri": "https://localhost:8080/"
        },
        "id": "NBZ1qOEaPMjj",
        "outputId": "9700bd5a-62cf-495b-e8b0-6a42ee41437f"
      },
      "execution_count": null,
      "outputs": [
        {
          "output_type": "stream",
          "name": "stdout",
          "text": [
            "2D Ones Array:\n",
            " [[1.]\n",
            " [1.]\n",
            " [1.]\n",
            " [1.]\n",
            " [1.]]\n",
            "2D Zeros Array:\n",
            " [[0.]\n",
            " [0.]\n",
            " [0.]\n",
            " [0.]\n",
            " [0.]]\n"
          ]
        }
      ]
    },
    {
      "cell_type": "markdown",
      "source": [
        "Consider the data x = [ 2 4 6 8 10], y = [ 8 16 24 32 40] plot a straight line between x and y, choose figure size (8,5), plot the points as circles, show the grid lines"
      ],
      "metadata": {
        "id": "T5wT0Zo8BCMX"
      }
    },
    {
      "cell_type": "code",
      "source": [
        "import matplotlib.pyplot as plt\n",
        "\n",
        "x = [2, 4, 6, 8, 10]\n",
        "y = [8, 16, 24, 32, 40]\n",
        "\n",
        "plt.figure(figsize=(8, 5))\n",
        "\n",
        "plt.plot(x, y, 'o-', label='y vs x')\n",
        "\n",
        "plt.xlabel(\"X values\")\n",
        "plt.ylabel(\"Y values\")\n",
        "plt.title(\"Straight Line Plot\")\n",
        "\n",
        "plt.grid(True)\n",
        "\n",
        "plt.show()"
      ],
      "metadata": {
        "colab": {
          "base_uri": "https://localhost:8080/",
          "height": 487
        },
        "id": "I85STp-jPd0H",
        "outputId": "9d26d682-b7a6-4191-c55c-e9096df5a9ed"
      },
      "execution_count": null,
      "outputs": [
        {
          "output_type": "display_data",
          "data": {
            "text/plain": [
              "<Figure size 800x500 with 1 Axes>"
            ],
            "image/png": "[encoded data removed]"
          },
          "metadata": {}
        }
      ]
    },
    {
      "cell_type": "markdown",
      "source": [
        "Consider the data on Employees’ salaries. Employee Name= [ Alice, Bob, Charlie, Diana], Salary (in $) = [50000, 60000, 80000, 55000], plot a bar graph with x axis label as “Employee Name”, y axis label as “Salary ($)”, give the plot title as “Employee Salaries”"
      ],
      "metadata": {
        "id": "HymLi6CGBGIb"
      }
    },
    {
      "cell_type": "code",
      "source": [
        "import matplotlib.pyplot as plt\n",
        "\n",
        "employee_name = [\"Alice\", \"Bob\", \"Charlie\", \"Diana\"]\n",
        "salary = [50000, 60000, 80000, 55000]\n",
        "\n",
        "plt.bar(employee_name, salary, color='skyblue', edgecolor='black')\n",
        "\n",
        "plt.xlabel(\"Employee Name\")\n",
        "plt.ylabel(\"Salary ($)\")\n",
        "plt.title(\"Employee Salaries\")\n",
        "\n",
        "plt.grid(axis='y', linestyle='--', alpha=0.7)\n",
        "plt.show()"
      ],
      "metadata": {
        "colab": {
          "base_uri": "https://localhost:8080/",
          "height": 472
        },
        "id": "aVfA_O93QGG8",
        "outputId": "42c47104-1e05-4318-f9c3-c577c943ac63"
      },
      "execution_count": null,
      "outputs": [
        {
          "output_type": "display_data",
          "data": {
            "text/plain": [
              "<Figure size 640x480 with 1 Axes>"
            ],
            "image/png": "[encoded data removed]"
          },
          "metadata": {}
        }
      ]
    },
    {
      "cell_type": "markdown",
      "source": [
        "Given data:\n",
        "students = ['John', 'Sarah', 'Mike', 'Lisa']\n",
        "scores = [85, 92, 78, 88]\n",
        "Q1. Function: Create a simple function check_grade(score) that returns:\n",
        "      \"Excellent\" if score ≥ 90\n",
        "       \"Good\" if score ≥ 80\n",
        "      \"Average\" if score < 80\n",
        "\n",
        "Q2. Use a for loop to print each student's name, score, and grade\n",
        "\n",
        "Q3. Convert scores to a NumPy array and find the class average\n",
        "\n",
        "Q4. Create a simple bar chart showing student scores\n"
      ],
      "metadata": {
        "id": "TzQmlh7wBIJN"
      }
    },
    {
      "cell_type": "code",
      "source": [
        "import numpy as np\n",
        "import matplotlib.pyplot as plt\n",
        "\n",
        "students = ['John', 'Sarah', 'Mike', 'Lisa']\n",
        "scores = [85, 92, 78, 88]\n",
        "\n",
        "def check_grade(score):\n",
        "    if score >= 90:\n",
        "        return \"Excellent\"\n",
        "    elif score >= 80:\n",
        "        return \"Good\"\n",
        "    else:\n",
        "        return \"Average\"\n",
        "\n",
        "print(\"Student Performance:\")\n",
        "for name, score in zip(students, scores):\n",
        "    print(f\"{name}: Score = {score}, Grade = {check_grade(score)}\")\n",
        "\n",
        "scores_array = np.array(scores)\n",
        "class_average = np.mean(scores_array)\n",
        "print(\"\\nClass Average:\", class_average)\n",
        "\n",
        "plt.bar(students, scores, color='lightgreen', edgecolor='black')\n",
        "plt.xlabel(\"Students\")\n",
        "plt.ylabel(\"Scores\")\n",
        "plt.title(\"Student Scores\")\n",
        "plt.grid(axis='y', linestyle='--', alpha=0.7)\n",
        "\n",
        "plt.show()"
      ],
      "metadata": {
        "colab": {
          "base_uri": "https://localhost:8080/",
          "height": 593
        },
        "id": "TLWe-ZUSQhLf",
        "outputId": "81825fc8-6811-43f0-e365-954df42427f9"
      },
      "execution_count": null,
      "outputs": [
        {
          "output_type": "stream",
          "name": "stdout",
          "text": [
            "Student Performance:\n",
            "John: Score = 85, Grade = Good\n",
            "Sarah: Score = 92, Grade = Excellent\n",
            "Mike: Score = 78, Grade = Average\n",
            "Lisa: Score = 88, Grade = Good\n",
            "\n",
            "Class Average: 85.75\n"
          ]
        },
        {
          "output_type": "display_data",
          "data": {
            "text/plain": [
              "<Figure size 640x480 with 1 Axes>"
            ],
            "image/png": "[encoded data removed]"
          },
          "metadata": {}
        }
      ]
    }
  ]
}